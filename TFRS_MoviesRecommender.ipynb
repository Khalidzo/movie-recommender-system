{
  "nbformat": 4,
  "nbformat_minor": 0,
  "metadata": {
    "colab": {
      "provenance": [],
      "authorship_tag": "ABX9TyPp9PPQwE1g+VXtvVvDVOnl"
    },
    "kernelspec": {
      "name": "python3",
      "display_name": "Python 3"
    },
    "language_info": {
      "name": "python"
    }
  },
  "cells": [
    {
      "cell_type": "code",
      "execution_count": 2,
      "metadata": {
        "id": "A2RF8wP5rZ7Q"
      },
      "outputs": [],
      "source": [
        "import pandas as pd"
      ]
    },
    {
      "cell_type": "markdown",
      "source": [
        "# Load Data"
      ],
      "metadata": {
        "id": "6DKkVTZjtGKs"
      }
    },
    {
      "cell_type": "code",
      "source": [
        "movies = pd.read_csv('/content/movies.csv', encoding='latin-1')\n",
        "users = pd.read_csv('/content/users.csv')\n",
        "ratings = pd.read_csv('/content/ratings.csv', dtype= {'movie': int, 'timestamp': int})"
      ],
      "metadata": {
        "id": "SPRDJjwus6-V"
      },
      "execution_count": 3,
      "outputs": []
    },
    {
      "cell_type": "code",
      "source": [
        "movies.head(2)"
      ],
      "metadata": {
        "colab": {
          "base_uri": "https://localhost:8080/",
          "height": 112
        },
        "id": "qn4szMnDtEB2",
        "outputId": "fbd02819-8a37-4335-8762-a504811bf1ac"
      },
      "execution_count": 4,
      "outputs": [
        {
          "output_type": "execute_result",
          "data": {
            "text/plain": [
              "   movie             title                        genres\n",
              "0      1  Toy Story (1995)   Animation|Children's|Comedy\n",
              "1      2    Jumanji (1995)  Adventure|Children's|Fantasy"
            ],
            "text/html": [
              "\n",
              "  <div id=\"df-0fddb0a1-0b07-4d86-9278-61bd6b1581b6\" class=\"colab-df-container\">\n",
              "    <div>\n",
              "<style scoped>\n",
              "    .dataframe tbody tr th:only-of-type {\n",
              "        vertical-align: middle;\n",
              "    }\n",
              "\n",
              "    .dataframe tbody tr th {\n",
              "        vertical-align: top;\n",
              "    }\n",
              "\n",
              "    .dataframe thead th {\n",
              "        text-align: right;\n",
              "    }\n",
              "</style>\n",
              "<table border=\"1\" class=\"dataframe\">\n",
              "  <thead>\n",
              "    <tr style=\"text-align: right;\">\n",
              "      <th></th>\n",
              "      <th>movie</th>\n",
              "      <th>title</th>\n",
              "      <th>genres</th>\n",
              "    </tr>\n",
              "  </thead>\n",
              "  <tbody>\n",
              "    <tr>\n",
              "      <th>0</th>\n",
              "      <td>1</td>\n",
              "      <td>Toy Story (1995)</td>\n",
              "      <td>Animation|Children's|Comedy</td>\n",
              "    </tr>\n",
              "    <tr>\n",
              "      <th>1</th>\n",
              "      <td>2</td>\n",
              "      <td>Jumanji (1995)</td>\n",
              "      <td>Adventure|Children's|Fantasy</td>\n",
              "    </tr>\n",
              "  </tbody>\n",
              "</table>\n",
              "</div>\n",
              "    <div class=\"colab-df-buttons\">\n",
              "\n",
              "  <div class=\"colab-df-container\">\n",
              "    <button class=\"colab-df-convert\" onclick=\"convertToInteractive('df-0fddb0a1-0b07-4d86-9278-61bd6b1581b6')\"\n",
              "            title=\"Convert this dataframe to an interactive table.\"\n",
              "            style=\"display:none;\">\n",
              "\n",
              "  <svg xmlns=\"http://www.w3.org/2000/svg\" height=\"24px\" viewBox=\"0 -960 960 960\">\n",
              "    <path d=\"M120-120v-720h720v720H120Zm60-500h600v-160H180v160Zm220 220h160v-160H400v160Zm0 220h160v-160H400v160ZM180-400h160v-160H180v160Zm440 0h160v-160H620v160ZM180-180h160v-160H180v160Zm440 0h160v-160H620v160Z\"/>\n",
              "  </svg>\n",
              "    </button>\n",
              "\n",
              "  <style>\n",
              "    .colab-df-container {\n",
              "      display:flex;\n",
              "      gap: 12px;\n",
              "    }\n",
              "\n",
              "    .colab-df-convert {\n",
              "      background-color: #E8F0FE;\n",
              "      border: none;\n",
              "      border-radius: 50%;\n",
              "      cursor: pointer;\n",
              "      display: none;\n",
              "      fill: #1967D2;\n",
              "      height: 32px;\n",
              "      padding: 0 0 0 0;\n",
              "      width: 32px;\n",
              "    }\n",
              "\n",
              "    .colab-df-convert:hover {\n",
              "      background-color: #E2EBFA;\n",
              "      box-shadow: 0px 1px 2px rgba(60, 64, 67, 0.3), 0px 1px 3px 1px rgba(60, 64, 67, 0.15);\n",
              "      fill: #174EA6;\n",
              "    }\n",
              "\n",
              "    .colab-df-buttons div {\n",
              "      margin-bottom: 4px;\n",
              "    }\n",
              "\n",
              "    [theme=dark] .colab-df-convert {\n",
              "      background-color: #3B4455;\n",
              "      fill: #D2E3FC;\n",
              "    }\n",
              "\n",
              "    [theme=dark] .colab-df-convert:hover {\n",
              "      background-color: #434B5C;\n",
              "      box-shadow: 0px 1px 3px 1px rgba(0, 0, 0, 0.15);\n",
              "      filter: drop-shadow(0px 1px 2px rgba(0, 0, 0, 0.3));\n",
              "      fill: #FFFFFF;\n",
              "    }\n",
              "  </style>\n",
              "\n",
              "    <script>\n",
              "      const buttonEl =\n",
              "        document.querySelector('#df-0fddb0a1-0b07-4d86-9278-61bd6b1581b6 button.colab-df-convert');\n",
              "      buttonEl.style.display =\n",
              "        google.colab.kernel.accessAllowed ? 'block' : 'none';\n",
              "\n",
              "      async function convertToInteractive(key) {\n",
              "        const element = document.querySelector('#df-0fddb0a1-0b07-4d86-9278-61bd6b1581b6');\n",
              "        const dataTable =\n",
              "          await google.colab.kernel.invokeFunction('convertToInteractive',\n",
              "                                                    [key], {});\n",
              "        if (!dataTable) return;\n",
              "\n",
              "        const docLinkHtml = 'Like what you see? Visit the ' +\n",
              "          '<a target=\"_blank\" href=https://colab.research.google.com/notebooks/data_table.ipynb>data table notebook</a>'\n",
              "          + ' to learn more about interactive tables.';\n",
              "        element.innerHTML = '';\n",
              "        dataTable['output_type'] = 'display_data';\n",
              "        await google.colab.output.renderOutput(dataTable, element);\n",
              "        const docLink = document.createElement('div');\n",
              "        docLink.innerHTML = docLinkHtml;\n",
              "        element.appendChild(docLink);\n",
              "      }\n",
              "    </script>\n",
              "  </div>\n",
              "\n",
              "    </div>\n",
              "  </div>\n"
            ]
          },
          "metadata": {},
          "execution_count": 4
        }
      ]
    },
    {
      "cell_type": "code",
      "source": [
        "ratings.head(2)"
      ],
      "metadata": {
        "colab": {
          "base_uri": "https://localhost:8080/",
          "height": 112
        },
        "id": "4HOypsrmtQik",
        "outputId": "54f0be5d-eedb-4390-cf3b-be0b4864ac31"
      },
      "execution_count": 5,
      "outputs": [
        {
          "output_type": "execute_result",
          "data": {
            "text/plain": [
              "   user  movie  rating  timestamp\n",
              "0     1   1193       5  978300760\n",
              "1     1    661       3  978302109"
            ],
            "text/html": [
              "\n",
              "  <div id=\"df-dc947cfd-9e1c-4811-b598-58dc7fcabbf7\" class=\"colab-df-container\">\n",
              "    <div>\n",
              "<style scoped>\n",
              "    .dataframe tbody tr th:only-of-type {\n",
              "        vertical-align: middle;\n",
              "    }\n",
              "\n",
              "    .dataframe tbody tr th {\n",
              "        vertical-align: top;\n",
              "    }\n",
              "\n",
              "    .dataframe thead th {\n",
              "        text-align: right;\n",
              "    }\n",
              "</style>\n",
              "<table border=\"1\" class=\"dataframe\">\n",
              "  <thead>\n",
              "    <tr style=\"text-align: right;\">\n",
              "      <th></th>\n",
              "      <th>user</th>\n",
              "      <th>movie</th>\n",
              "      <th>rating</th>\n",
              "      <th>timestamp</th>\n",
              "    </tr>\n",
              "  </thead>\n",
              "  <tbody>\n",
              "    <tr>\n",
              "      <th>0</th>\n",
              "      <td>1</td>\n",
              "      <td>1193</td>\n",
              "      <td>5</td>\n",
              "      <td>978300760</td>\n",
              "    </tr>\n",
              "    <tr>\n",
              "      <th>1</th>\n",
              "      <td>1</td>\n",
              "      <td>661</td>\n",
              "      <td>3</td>\n",
              "      <td>978302109</td>\n",
              "    </tr>\n",
              "  </tbody>\n",
              "</table>\n",
              "</div>\n",
              "    <div class=\"colab-df-buttons\">\n",
              "\n",
              "  <div class=\"colab-df-container\">\n",
              "    <button class=\"colab-df-convert\" onclick=\"convertToInteractive('df-dc947cfd-9e1c-4811-b598-58dc7fcabbf7')\"\n",
              "            title=\"Convert this dataframe to an interactive table.\"\n",
              "            style=\"display:none;\">\n",
              "\n",
              "  <svg xmlns=\"http://www.w3.org/2000/svg\" height=\"24px\" viewBox=\"0 -960 960 960\">\n",
              "    <path d=\"M120-120v-720h720v720H120Zm60-500h600v-160H180v160Zm220 220h160v-160H400v160Zm0 220h160v-160H400v160ZM180-400h160v-160H180v160Zm440 0h160v-160H620v160ZM180-180h160v-160H180v160Zm440 0h160v-160H620v160Z\"/>\n",
              "  </svg>\n",
              "    </button>\n",
              "\n",
              "  <style>\n",
              "    .colab-df-container {\n",
              "      display:flex;\n",
              "      gap: 12px;\n",
              "    }\n",
              "\n",
              "    .colab-df-convert {\n",
              "      background-color: #E8F0FE;\n",
              "      border: none;\n",
              "      border-radius: 50%;\n",
              "      cursor: pointer;\n",
              "      display: none;\n",
              "      fill: #1967D2;\n",
              "      height: 32px;\n",
              "      padding: 0 0 0 0;\n",
              "      width: 32px;\n",
              "    }\n",
              "\n",
              "    .colab-df-convert:hover {\n",
              "      background-color: #E2EBFA;\n",
              "      box-shadow: 0px 1px 2px rgba(60, 64, 67, 0.3), 0px 1px 3px 1px rgba(60, 64, 67, 0.15);\n",
              "      fill: #174EA6;\n",
              "    }\n",
              "\n",
              "    .colab-df-buttons div {\n",
              "      margin-bottom: 4px;\n",
              "    }\n",
              "\n",
              "    [theme=dark] .colab-df-convert {\n",
              "      background-color: #3B4455;\n",
              "      fill: #D2E3FC;\n",
              "    }\n",
              "\n",
              "    [theme=dark] .colab-df-convert:hover {\n",
              "      background-color: #434B5C;\n",
              "      box-shadow: 0px 1px 3px 1px rgba(0, 0, 0, 0.15);\n",
              "      filter: drop-shadow(0px 1px 2px rgba(0, 0, 0, 0.3));\n",
              "      fill: #FFFFFF;\n",
              "    }\n",
              "  </style>\n",
              "\n",
              "    <script>\n",
              "      const buttonEl =\n",
              "        document.querySelector('#df-dc947cfd-9e1c-4811-b598-58dc7fcabbf7 button.colab-df-convert');\n",
              "      buttonEl.style.display =\n",
              "        google.colab.kernel.accessAllowed ? 'block' : 'none';\n",
              "\n",
              "      async function convertToInteractive(key) {\n",
              "        const element = document.querySelector('#df-dc947cfd-9e1c-4811-b598-58dc7fcabbf7');\n",
              "        const dataTable =\n",
              "          await google.colab.kernel.invokeFunction('convertToInteractive',\n",
              "                                                    [key], {});\n",
              "        if (!dataTable) return;\n",
              "\n",
              "        const docLinkHtml = 'Like what you see? Visit the ' +\n",
              "          '<a target=\"_blank\" href=https://colab.research.google.com/notebooks/data_table.ipynb>data table notebook</a>'\n",
              "          + ' to learn more about interactive tables.';\n",
              "        element.innerHTML = '';\n",
              "        dataTable['output_type'] = 'display_data';\n",
              "        await google.colab.output.renderOutput(dataTable, element);\n",
              "        const docLink = document.createElement('div');\n",
              "        docLink.innerHTML = docLinkHtml;\n",
              "        element.appendChild(docLink);\n",
              "      }\n",
              "    </script>\n",
              "  </div>\n",
              "\n",
              "    </div>\n",
              "  </div>\n"
            ]
          },
          "metadata": {},
          "execution_count": 5
        }
      ]
    },
    {
      "cell_type": "code",
      "source": [
        "users.head(2)"
      ],
      "metadata": {
        "colab": {
          "base_uri": "https://localhost:8080/",
          "height": 112
        },
        "id": "CjEE0EIjtR_D",
        "outputId": "c7cb9659-bb47-4aba-fdc6-f2eb0cf35ba9"
      },
      "execution_count": 6,
      "outputs": [
        {
          "output_type": "execute_result",
          "data": {
            "text/plain": [
              "   user gender  age  occupation    zip\n",
              "0     1      F    1          10  48067\n",
              "1     2      M   56          16  70072"
            ],
            "text/html": [
              "\n",
              "  <div id=\"df-7b49ab02-b92c-418e-a417-4a83619d207e\" class=\"colab-df-container\">\n",
              "    <div>\n",
              "<style scoped>\n",
              "    .dataframe tbody tr th:only-of-type {\n",
              "        vertical-align: middle;\n",
              "    }\n",
              "\n",
              "    .dataframe tbody tr th {\n",
              "        vertical-align: top;\n",
              "    }\n",
              "\n",
              "    .dataframe thead th {\n",
              "        text-align: right;\n",
              "    }\n",
              "</style>\n",
              "<table border=\"1\" class=\"dataframe\">\n",
              "  <thead>\n",
              "    <tr style=\"text-align: right;\">\n",
              "      <th></th>\n",
              "      <th>user</th>\n",
              "      <th>gender</th>\n",
              "      <th>age</th>\n",
              "      <th>occupation</th>\n",
              "      <th>zip</th>\n",
              "    </tr>\n",
              "  </thead>\n",
              "  <tbody>\n",
              "    <tr>\n",
              "      <th>0</th>\n",
              "      <td>1</td>\n",
              "      <td>F</td>\n",
              "      <td>1</td>\n",
              "      <td>10</td>\n",
              "      <td>48067</td>\n",
              "    </tr>\n",
              "    <tr>\n",
              "      <th>1</th>\n",
              "      <td>2</td>\n",
              "      <td>M</td>\n",
              "      <td>56</td>\n",
              "      <td>16</td>\n",
              "      <td>70072</td>\n",
              "    </tr>\n",
              "  </tbody>\n",
              "</table>\n",
              "</div>\n",
              "    <div class=\"colab-df-buttons\">\n",
              "\n",
              "  <div class=\"colab-df-container\">\n",
              "    <button class=\"colab-df-convert\" onclick=\"convertToInteractive('df-7b49ab02-b92c-418e-a417-4a83619d207e')\"\n",
              "            title=\"Convert this dataframe to an interactive table.\"\n",
              "            style=\"display:none;\">\n",
              "\n",
              "  <svg xmlns=\"http://www.w3.org/2000/svg\" height=\"24px\" viewBox=\"0 -960 960 960\">\n",
              "    <path d=\"M120-120v-720h720v720H120Zm60-500h600v-160H180v160Zm220 220h160v-160H400v160Zm0 220h160v-160H400v160ZM180-400h160v-160H180v160Zm440 0h160v-160H620v160ZM180-180h160v-160H180v160Zm440 0h160v-160H620v160Z\"/>\n",
              "  </svg>\n",
              "    </button>\n",
              "\n",
              "  <style>\n",
              "    .colab-df-container {\n",
              "      display:flex;\n",
              "      gap: 12px;\n",
              "    }\n",
              "\n",
              "    .colab-df-convert {\n",
              "      background-color: #E8F0FE;\n",
              "      border: none;\n",
              "      border-radius: 50%;\n",
              "      cursor: pointer;\n",
              "      display: none;\n",
              "      fill: #1967D2;\n",
              "      height: 32px;\n",
              "      padding: 0 0 0 0;\n",
              "      width: 32px;\n",
              "    }\n",
              "\n",
              "    .colab-df-convert:hover {\n",
              "      background-color: #E2EBFA;\n",
              "      box-shadow: 0px 1px 2px rgba(60, 64, 67, 0.3), 0px 1px 3px 1px rgba(60, 64, 67, 0.15);\n",
              "      fill: #174EA6;\n",
              "    }\n",
              "\n",
              "    .colab-df-buttons div {\n",
              "      margin-bottom: 4px;\n",
              "    }\n",
              "\n",
              "    [theme=dark] .colab-df-convert {\n",
              "      background-color: #3B4455;\n",
              "      fill: #D2E3FC;\n",
              "    }\n",
              "\n",
              "    [theme=dark] .colab-df-convert:hover {\n",
              "      background-color: #434B5C;\n",
              "      box-shadow: 0px 1px 3px 1px rgba(0, 0, 0, 0.15);\n",
              "      filter: drop-shadow(0px 1px 2px rgba(0, 0, 0, 0.3));\n",
              "      fill: #FFFFFF;\n",
              "    }\n",
              "  </style>\n",
              "\n",
              "    <script>\n",
              "      const buttonEl =\n",
              "        document.querySelector('#df-7b49ab02-b92c-418e-a417-4a83619d207e button.colab-df-convert');\n",
              "      buttonEl.style.display =\n",
              "        google.colab.kernel.accessAllowed ? 'block' : 'none';\n",
              "\n",
              "      async function convertToInteractive(key) {\n",
              "        const element = document.querySelector('#df-7b49ab02-b92c-418e-a417-4a83619d207e');\n",
              "        const dataTable =\n",
              "          await google.colab.kernel.invokeFunction('convertToInteractive',\n",
              "                                                    [key], {});\n",
              "        if (!dataTable) return;\n",
              "\n",
              "        const docLinkHtml = 'Like what you see? Visit the ' +\n",
              "          '<a target=\"_blank\" href=https://colab.research.google.com/notebooks/data_table.ipynb>data table notebook</a>'\n",
              "          + ' to learn more about interactive tables.';\n",
              "        element.innerHTML = '';\n",
              "        dataTable['output_type'] = 'display_data';\n",
              "        await google.colab.output.renderOutput(dataTable, element);\n",
              "        const docLink = document.createElement('div');\n",
              "        docLink.innerHTML = docLinkHtml;\n",
              "        element.appendChild(docLink);\n",
              "      }\n",
              "    </script>\n",
              "  </div>\n",
              "\n",
              "    </div>\n",
              "  </div>\n"
            ]
          },
          "metadata": {},
          "execution_count": 6
        }
      ]
    },
    {
      "cell_type": "markdown",
      "source": [
        "## Extract Year from movie title"
      ],
      "metadata": {
        "id": "aYx-muJ-uFz0"
      }
    },
    {
      "cell_type": "code",
      "source": [
        "movies[['title', 'year']] = movies['title'].str.extract(r'(.*?)\\s\\((\\d{4})\\)')"
      ],
      "metadata": {
        "id": "hVQcbY1ftzKq"
      },
      "execution_count": 7,
      "outputs": []
    },
    {
      "cell_type": "code",
      "source": [
        "movies.head(2)"
      ],
      "metadata": {
        "colab": {
          "base_uri": "https://localhost:8080/",
          "height": 112
        },
        "id": "ucJTsJnUujPH",
        "outputId": "9cac2c38-cef9-40bb-ce06-e2bfbd57e7b7"
      },
      "execution_count": 8,
      "outputs": [
        {
          "output_type": "execute_result",
          "data": {
            "text/plain": [
              "   movie      title                        genres  year\n",
              "0      1  Toy Story   Animation|Children's|Comedy  1995\n",
              "1      2    Jumanji  Adventure|Children's|Fantasy  1995"
            ],
            "text/html": [
              "\n",
              "  <div id=\"df-d874644e-5cab-4e95-8b3a-82905cd13b37\" class=\"colab-df-container\">\n",
              "    <div>\n",
              "<style scoped>\n",
              "    .dataframe tbody tr th:only-of-type {\n",
              "        vertical-align: middle;\n",
              "    }\n",
              "\n",
              "    .dataframe tbody tr th {\n",
              "        vertical-align: top;\n",
              "    }\n",
              "\n",
              "    .dataframe thead th {\n",
              "        text-align: right;\n",
              "    }\n",
              "</style>\n",
              "<table border=\"1\" class=\"dataframe\">\n",
              "  <thead>\n",
              "    <tr style=\"text-align: right;\">\n",
              "      <th></th>\n",
              "      <th>movie</th>\n",
              "      <th>title</th>\n",
              "      <th>genres</th>\n",
              "      <th>year</th>\n",
              "    </tr>\n",
              "  </thead>\n",
              "  <tbody>\n",
              "    <tr>\n",
              "      <th>0</th>\n",
              "      <td>1</td>\n",
              "      <td>Toy Story</td>\n",
              "      <td>Animation|Children's|Comedy</td>\n",
              "      <td>1995</td>\n",
              "    </tr>\n",
              "    <tr>\n",
              "      <th>1</th>\n",
              "      <td>2</td>\n",
              "      <td>Jumanji</td>\n",
              "      <td>Adventure|Children's|Fantasy</td>\n",
              "      <td>1995</td>\n",
              "    </tr>\n",
              "  </tbody>\n",
              "</table>\n",
              "</div>\n",
              "    <div class=\"colab-df-buttons\">\n",
              "\n",
              "  <div class=\"colab-df-container\">\n",
              "    <button class=\"colab-df-convert\" onclick=\"convertToInteractive('df-d874644e-5cab-4e95-8b3a-82905cd13b37')\"\n",
              "            title=\"Convert this dataframe to an interactive table.\"\n",
              "            style=\"display:none;\">\n",
              "\n",
              "  <svg xmlns=\"http://www.w3.org/2000/svg\" height=\"24px\" viewBox=\"0 -960 960 960\">\n",
              "    <path d=\"M120-120v-720h720v720H120Zm60-500h600v-160H180v160Zm220 220h160v-160H400v160Zm0 220h160v-160H400v160ZM180-400h160v-160H180v160Zm440 0h160v-160H620v160ZM180-180h160v-160H180v160Zm440 0h160v-160H620v160Z\"/>\n",
              "  </svg>\n",
              "    </button>\n",
              "\n",
              "  <style>\n",
              "    .colab-df-container {\n",
              "      display:flex;\n",
              "      gap: 12px;\n",
              "    }\n",
              "\n",
              "    .colab-df-convert {\n",
              "      background-color: #E8F0FE;\n",
              "      border: none;\n",
              "      border-radius: 50%;\n",
              "      cursor: pointer;\n",
              "      display: none;\n",
              "      fill: #1967D2;\n",
              "      height: 32px;\n",
              "      padding: 0 0 0 0;\n",
              "      width: 32px;\n",
              "    }\n",
              "\n",
              "    .colab-df-convert:hover {\n",
              "      background-color: #E2EBFA;\n",
              "      box-shadow: 0px 1px 2px rgba(60, 64, 67, 0.3), 0px 1px 3px 1px rgba(60, 64, 67, 0.15);\n",
              "      fill: #174EA6;\n",
              "    }\n",
              "\n",
              "    .colab-df-buttons div {\n",
              "      margin-bottom: 4px;\n",
              "    }\n",
              "\n",
              "    [theme=dark] .colab-df-convert {\n",
              "      background-color: #3B4455;\n",
              "      fill: #D2E3FC;\n",
              "    }\n",
              "\n",
              "    [theme=dark] .colab-df-convert:hover {\n",
              "      background-color: #434B5C;\n",
              "      box-shadow: 0px 1px 3px 1px rgba(0, 0, 0, 0.15);\n",
              "      filter: drop-shadow(0px 1px 2px rgba(0, 0, 0, 0.3));\n",
              "      fill: #FFFFFF;\n",
              "    }\n",
              "  </style>\n",
              "\n",
              "    <script>\n",
              "      const buttonEl =\n",
              "        document.querySelector('#df-d874644e-5cab-4e95-8b3a-82905cd13b37 button.colab-df-convert');\n",
              "      buttonEl.style.display =\n",
              "        google.colab.kernel.accessAllowed ? 'block' : 'none';\n",
              "\n",
              "      async function convertToInteractive(key) {\n",
              "        const element = document.querySelector('#df-d874644e-5cab-4e95-8b3a-82905cd13b37');\n",
              "        const dataTable =\n",
              "          await google.colab.kernel.invokeFunction('convertToInteractive',\n",
              "                                                    [key], {});\n",
              "        if (!dataTable) return;\n",
              "\n",
              "        const docLinkHtml = 'Like what you see? Visit the ' +\n",
              "          '<a target=\"_blank\" href=https://colab.research.google.com/notebooks/data_table.ipynb>data table notebook</a>'\n",
              "          + ' to learn more about interactive tables.';\n",
              "        element.innerHTML = '';\n",
              "        dataTable['output_type'] = 'display_data';\n",
              "        await google.colab.output.renderOutput(dataTable, element);\n",
              "        const docLink = document.createElement('div');\n",
              "        docLink.innerHTML = docLinkHtml;\n",
              "        element.appendChild(docLink);\n",
              "      }\n",
              "    </script>\n",
              "  </div>\n",
              "\n",
              "    </div>\n",
              "  </div>\n"
            ]
          },
          "metadata": {},
          "execution_count": 8
        }
      ]
    },
    {
      "cell_type": "markdown",
      "source": [
        "# Split different genres"
      ],
      "metadata": {
        "id": "G00gA9SHveVM"
      }
    },
    {
      "cell_type": "code",
      "source": [
        "movies['genres'] = movies['genres'].apply(lambda x: str(x).split('|') if not pd.isnull(x) else [])"
      ],
      "metadata": {
        "id": "R8Cucs5gu6bj"
      },
      "execution_count": 9,
      "outputs": []
    },
    {
      "cell_type": "code",
      "source": [
        "movies.head(2)"
      ],
      "metadata": {
        "colab": {
          "base_uri": "https://localhost:8080/",
          "height": 112
        },
        "id": "VZZRIqJvvoP8",
        "outputId": "16b7fc22-134d-438f-e78c-7788737271da"
      },
      "execution_count": 10,
      "outputs": [
        {
          "output_type": "execute_result",
          "data": {
            "text/plain": [
              "   movie      title                            genres  year\n",
              "0      1  Toy Story   [Animation, Children's, Comedy]  1995\n",
              "1      2    Jumanji  [Adventure, Children's, Fantasy]  1995"
            ],
            "text/html": [
              "\n",
              "  <div id=\"df-1cb69385-66c9-45e4-997b-1877d208a022\" class=\"colab-df-container\">\n",
              "    <div>\n",
              "<style scoped>\n",
              "    .dataframe tbody tr th:only-of-type {\n",
              "        vertical-align: middle;\n",
              "    }\n",
              "\n",
              "    .dataframe tbody tr th {\n",
              "        vertical-align: top;\n",
              "    }\n",
              "\n",
              "    .dataframe thead th {\n",
              "        text-align: right;\n",
              "    }\n",
              "</style>\n",
              "<table border=\"1\" class=\"dataframe\">\n",
              "  <thead>\n",
              "    <tr style=\"text-align: right;\">\n",
              "      <th></th>\n",
              "      <th>movie</th>\n",
              "      <th>title</th>\n",
              "      <th>genres</th>\n",
              "      <th>year</th>\n",
              "    </tr>\n",
              "  </thead>\n",
              "  <tbody>\n",
              "    <tr>\n",
              "      <th>0</th>\n",
              "      <td>1</td>\n",
              "      <td>Toy Story</td>\n",
              "      <td>[Animation, Children's, Comedy]</td>\n",
              "      <td>1995</td>\n",
              "    </tr>\n",
              "    <tr>\n",
              "      <th>1</th>\n",
              "      <td>2</td>\n",
              "      <td>Jumanji</td>\n",
              "      <td>[Adventure, Children's, Fantasy]</td>\n",
              "      <td>1995</td>\n",
              "    </tr>\n",
              "  </tbody>\n",
              "</table>\n",
              "</div>\n",
              "    <div class=\"colab-df-buttons\">\n",
              "\n",
              "  <div class=\"colab-df-container\">\n",
              "    <button class=\"colab-df-convert\" onclick=\"convertToInteractive('df-1cb69385-66c9-45e4-997b-1877d208a022')\"\n",
              "            title=\"Convert this dataframe to an interactive table.\"\n",
              "            style=\"display:none;\">\n",
              "\n",
              "  <svg xmlns=\"http://www.w3.org/2000/svg\" height=\"24px\" viewBox=\"0 -960 960 960\">\n",
              "    <path d=\"M120-120v-720h720v720H120Zm60-500h600v-160H180v160Zm220 220h160v-160H400v160Zm0 220h160v-160H400v160ZM180-400h160v-160H180v160Zm440 0h160v-160H620v160ZM180-180h160v-160H180v160Zm440 0h160v-160H620v160Z\"/>\n",
              "  </svg>\n",
              "    </button>\n",
              "\n",
              "  <style>\n",
              "    .colab-df-container {\n",
              "      display:flex;\n",
              "      gap: 12px;\n",
              "    }\n",
              "\n",
              "    .colab-df-convert {\n",
              "      background-color: #E8F0FE;\n",
              "      border: none;\n",
              "      border-radius: 50%;\n",
              "      cursor: pointer;\n",
              "      display: none;\n",
              "      fill: #1967D2;\n",
              "      height: 32px;\n",
              "      padding: 0 0 0 0;\n",
              "      width: 32px;\n",
              "    }\n",
              "\n",
              "    .colab-df-convert:hover {\n",
              "      background-color: #E2EBFA;\n",
              "      box-shadow: 0px 1px 2px rgba(60, 64, 67, 0.3), 0px 1px 3px 1px rgba(60, 64, 67, 0.15);\n",
              "      fill: #174EA6;\n",
              "    }\n",
              "\n",
              "    .colab-df-buttons div {\n",
              "      margin-bottom: 4px;\n",
              "    }\n",
              "\n",
              "    [theme=dark] .colab-df-convert {\n",
              "      background-color: #3B4455;\n",
              "      fill: #D2E3FC;\n",
              "    }\n",
              "\n",
              "    [theme=dark] .colab-df-convert:hover {\n",
              "      background-color: #434B5C;\n",
              "      box-shadow: 0px 1px 3px 1px rgba(0, 0, 0, 0.15);\n",
              "      filter: drop-shadow(0px 1px 2px rgba(0, 0, 0, 0.3));\n",
              "      fill: #FFFFFF;\n",
              "    }\n",
              "  </style>\n",
              "\n",
              "    <script>\n",
              "      const buttonEl =\n",
              "        document.querySelector('#df-1cb69385-66c9-45e4-997b-1877d208a022 button.colab-df-convert');\n",
              "      buttonEl.style.display =\n",
              "        google.colab.kernel.accessAllowed ? 'block' : 'none';\n",
              "\n",
              "      async function convertToInteractive(key) {\n",
              "        const element = document.querySelector('#df-1cb69385-66c9-45e4-997b-1877d208a022');\n",
              "        const dataTable =\n",
              "          await google.colab.kernel.invokeFunction('convertToInteractive',\n",
              "                                                    [key], {});\n",
              "        if (!dataTable) return;\n",
              "\n",
              "        const docLinkHtml = 'Like what you see? Visit the ' +\n",
              "          '<a target=\"_blank\" href=https://colab.research.google.com/notebooks/data_table.ipynb>data table notebook</a>'\n",
              "          + ' to learn more about interactive tables.';\n",
              "        element.innerHTML = '';\n",
              "        dataTable['output_type'] = 'display_data';\n",
              "        await google.colab.output.renderOutput(dataTable, element);\n",
              "        const docLink = document.createElement('div');\n",
              "        docLink.innerHTML = docLinkHtml;\n",
              "        element.appendChild(docLink);\n",
              "      }\n",
              "    </script>\n",
              "  </div>\n",
              "\n",
              "    </div>\n",
              "  </div>\n"
            ]
          },
          "metadata": {},
          "execution_count": 10
        }
      ]
    },
    {
      "cell_type": "markdown",
      "source": [
        "# Drop uncesserary features"
      ],
      "metadata": {
        "id": "gZT0nfp5a72x"
      }
    },
    {
      "cell_type": "code",
      "source": [
        "ratings.drop('timestamp', inplace=True, axis=1)"
      ],
      "metadata": {
        "id": "5LJy-KPpg4xk"
      },
      "execution_count": 11,
      "outputs": []
    },
    {
      "cell_type": "code",
      "source": [
        "users.drop(['zip', 'occupation'], inplace=True, axis=1)"
      ],
      "metadata": {
        "id": "gz05sZBGa6XA"
      },
      "execution_count": 12,
      "outputs": []
    },
    {
      "cell_type": "markdown",
      "source": [
        "# Merge all tables"
      ],
      "metadata": {
        "id": "iz2SLvJyawKm"
      }
    },
    {
      "cell_type": "code",
      "source": [
        "all_data = ratings.join(users.set_index('user'), on='user', how='inner', rsuffix='2').join(movies.set_index('movie'), on='movie', how='inner', rsuffix='2')\n",
        "print(f'Samples count: {len(all_data.index)}')\n",
        "all_data.head()"
      ],
      "metadata": {
        "colab": {
          "base_uri": "https://localhost:8080/",
          "height": 223
        },
        "id": "2JAKDPi7ip9O",
        "outputId": "68f78d32-2719-4ec7-c288-f8d997019fcd"
      },
      "execution_count": 13,
      "outputs": [
        {
          "output_type": "stream",
          "name": "stdout",
          "text": [
            "Samples count: 1000209\n"
          ]
        },
        {
          "output_type": "execute_result",
          "data": {
            "text/plain": [
              "      user  movie  rating gender  age                            title  \\\n",
              "0        1   1193       5      F    1  One Flew Over the Cuckoo's Nest   \n",
              "120      2   1193       5      M   56  One Flew Over the Cuckoo's Nest   \n",
              "1339    12   1193       4      M   25  One Flew Over the Cuckoo's Nest   \n",
              "1518    15   1193       4      M   25  One Flew Over the Cuckoo's Nest   \n",
              "1747    17   1193       5      M   50  One Flew Over the Cuckoo's Nest   \n",
              "\n",
              "       genres  year  \n",
              "0     [Drama]  1975  \n",
              "120   [Drama]  1975  \n",
              "1339  [Drama]  1975  \n",
              "1518  [Drama]  1975  \n",
              "1747  [Drama]  1975  "
            ],
            "text/html": [
              "\n",
              "  <div id=\"df-10a7b896-faef-46ab-830a-d28990f3f1fe\" class=\"colab-df-container\">\n",
              "    <div>\n",
              "<style scoped>\n",
              "    .dataframe tbody tr th:only-of-type {\n",
              "        vertical-align: middle;\n",
              "    }\n",
              "\n",
              "    .dataframe tbody tr th {\n",
              "        vertical-align: top;\n",
              "    }\n",
              "\n",
              "    .dataframe thead th {\n",
              "        text-align: right;\n",
              "    }\n",
              "</style>\n",
              "<table border=\"1\" class=\"dataframe\">\n",
              "  <thead>\n",
              "    <tr style=\"text-align: right;\">\n",
              "      <th></th>\n",
              "      <th>user</th>\n",
              "      <th>movie</th>\n",
              "      <th>rating</th>\n",
              "      <th>gender</th>\n",
              "      <th>age</th>\n",
              "      <th>title</th>\n",
              "      <th>genres</th>\n",
              "      <th>year</th>\n",
              "    </tr>\n",
              "  </thead>\n",
              "  <tbody>\n",
              "    <tr>\n",
              "      <th>0</th>\n",
              "      <td>1</td>\n",
              "      <td>1193</td>\n",
              "      <td>5</td>\n",
              "      <td>F</td>\n",
              "      <td>1</td>\n",
              "      <td>One Flew Over the Cuckoo's Nest</td>\n",
              "      <td>[Drama]</td>\n",
              "      <td>1975</td>\n",
              "    </tr>\n",
              "    <tr>\n",
              "      <th>120</th>\n",
              "      <td>2</td>\n",
              "      <td>1193</td>\n",
              "      <td>5</td>\n",
              "      <td>M</td>\n",
              "      <td>56</td>\n",
              "      <td>One Flew Over the Cuckoo's Nest</td>\n",
              "      <td>[Drama]</td>\n",
              "      <td>1975</td>\n",
              "    </tr>\n",
              "    <tr>\n",
              "      <th>1339</th>\n",
              "      <td>12</td>\n",
              "      <td>1193</td>\n",
              "      <td>4</td>\n",
              "      <td>M</td>\n",
              "      <td>25</td>\n",
              "      <td>One Flew Over the Cuckoo's Nest</td>\n",
              "      <td>[Drama]</td>\n",
              "      <td>1975</td>\n",
              "    </tr>\n",
              "    <tr>\n",
              "      <th>1518</th>\n",
              "      <td>15</td>\n",
              "      <td>1193</td>\n",
              "      <td>4</td>\n",
              "      <td>M</td>\n",
              "      <td>25</td>\n",
              "      <td>One Flew Over the Cuckoo's Nest</td>\n",
              "      <td>[Drama]</td>\n",
              "      <td>1975</td>\n",
              "    </tr>\n",
              "    <tr>\n",
              "      <th>1747</th>\n",
              "      <td>17</td>\n",
              "      <td>1193</td>\n",
              "      <td>5</td>\n",
              "      <td>M</td>\n",
              "      <td>50</td>\n",
              "      <td>One Flew Over the Cuckoo's Nest</td>\n",
              "      <td>[Drama]</td>\n",
              "      <td>1975</td>\n",
              "    </tr>\n",
              "  </tbody>\n",
              "</table>\n",
              "</div>\n",
              "    <div class=\"colab-df-buttons\">\n",
              "\n",
              "  <div class=\"colab-df-container\">\n",
              "    <button class=\"colab-df-convert\" onclick=\"convertToInteractive('df-10a7b896-faef-46ab-830a-d28990f3f1fe')\"\n",
              "            title=\"Convert this dataframe to an interactive table.\"\n",
              "            style=\"display:none;\">\n",
              "\n",
              "  <svg xmlns=\"http://www.w3.org/2000/svg\" height=\"24px\" viewBox=\"0 -960 960 960\">\n",
              "    <path d=\"M120-120v-720h720v720H120Zm60-500h600v-160H180v160Zm220 220h160v-160H400v160Zm0 220h160v-160H400v160ZM180-400h160v-160H180v160Zm440 0h160v-160H620v160ZM180-180h160v-160H180v160Zm440 0h160v-160H620v160Z\"/>\n",
              "  </svg>\n",
              "    </button>\n",
              "\n",
              "  <style>\n",
              "    .colab-df-container {\n",
              "      display:flex;\n",
              "      gap: 12px;\n",
              "    }\n",
              "\n",
              "    .colab-df-convert {\n",
              "      background-color: #E8F0FE;\n",
              "      border: none;\n",
              "      border-radius: 50%;\n",
              "      cursor: pointer;\n",
              "      display: none;\n",
              "      fill: #1967D2;\n",
              "      height: 32px;\n",
              "      padding: 0 0 0 0;\n",
              "      width: 32px;\n",
              "    }\n",
              "\n",
              "    .colab-df-convert:hover {\n",
              "      background-color: #E2EBFA;\n",
              "      box-shadow: 0px 1px 2px rgba(60, 64, 67, 0.3), 0px 1px 3px 1px rgba(60, 64, 67, 0.15);\n",
              "      fill: #174EA6;\n",
              "    }\n",
              "\n",
              "    .colab-df-buttons div {\n",
              "      margin-bottom: 4px;\n",
              "    }\n",
              "\n",
              "    [theme=dark] .colab-df-convert {\n",
              "      background-color: #3B4455;\n",
              "      fill: #D2E3FC;\n",
              "    }\n",
              "\n",
              "    [theme=dark] .colab-df-convert:hover {\n",
              "      background-color: #434B5C;\n",
              "      box-shadow: 0px 1px 3px 1px rgba(0, 0, 0, 0.15);\n",
              "      filter: drop-shadow(0px 1px 2px rgba(0, 0, 0, 0.3));\n",
              "      fill: #FFFFFF;\n",
              "    }\n",
              "  </style>\n",
              "\n",
              "    <script>\n",
              "      const buttonEl =\n",
              "        document.querySelector('#df-10a7b896-faef-46ab-830a-d28990f3f1fe button.colab-df-convert');\n",
              "      buttonEl.style.display =\n",
              "        google.colab.kernel.accessAllowed ? 'block' : 'none';\n",
              "\n",
              "      async function convertToInteractive(key) {\n",
              "        const element = document.querySelector('#df-10a7b896-faef-46ab-830a-d28990f3f1fe');\n",
              "        const dataTable =\n",
              "          await google.colab.kernel.invokeFunction('convertToInteractive',\n",
              "                                                    [key], {});\n",
              "        if (!dataTable) return;\n",
              "\n",
              "        const docLinkHtml = 'Like what you see? Visit the ' +\n",
              "          '<a target=\"_blank\" href=https://colab.research.google.com/notebooks/data_table.ipynb>data table notebook</a>'\n",
              "          + ' to learn more about interactive tables.';\n",
              "        element.innerHTML = '';\n",
              "        dataTable['output_type'] = 'display_data';\n",
              "        await google.colab.output.renderOutput(dataTable, element);\n",
              "        const docLink = document.createElement('div');\n",
              "        docLink.innerHTML = docLinkHtml;\n",
              "        element.appendChild(docLink);\n",
              "      }\n",
              "    </script>\n",
              "  </div>\n",
              "\n",
              "\n",
              "<div id=\"df-fb04e141-19fe-4e61-8e0d-13755ac39574\">\n",
              "  <button class=\"colab-df-quickchart\" onclick=\"quickchart('df-fb04e141-19fe-4e61-8e0d-13755ac39574')\"\n",
              "            title=\"Suggest charts.\"\n",
              "            style=\"display:none;\">\n",
              "\n",
              "<svg xmlns=\"http://www.w3.org/2000/svg\" height=\"24px\"viewBox=\"0 0 24 24\"\n",
              "     width=\"24px\">\n",
              "    <g>\n",
              "        <path d=\"M19 3H5c-1.1 0-2 .9-2 2v14c0 1.1.9 2 2 2h14c1.1 0 2-.9 2-2V5c0-1.1-.9-2-2-2zM9 17H7v-7h2v7zm4 0h-2V7h2v10zm4 0h-2v-4h2v4z\"/>\n",
              "    </g>\n",
              "</svg>\n",
              "  </button>\n",
              "\n",
              "<style>\n",
              "  .colab-df-quickchart {\n",
              "    background-color: #E8F0FE;\n",
              "    border: none;\n",
              "    border-radius: 50%;\n",
              "    cursor: pointer;\n",
              "    display: none;\n",
              "    fill: #1967D2;\n",
              "    height: 32px;\n",
              "    padding: 0 0 0 0;\n",
              "    width: 32px;\n",
              "  }\n",
              "\n",
              "  .colab-df-quickchart:hover {\n",
              "    background-color: #E2EBFA;\n",
              "    box-shadow: 0px 1px 2px rgba(60, 64, 67, 0.3), 0px 1px 3px 1px rgba(60, 64, 67, 0.15);\n",
              "    fill: #174EA6;\n",
              "  }\n",
              "\n",
              "  [theme=dark] .colab-df-quickchart {\n",
              "    background-color: #3B4455;\n",
              "    fill: #D2E3FC;\n",
              "  }\n",
              "\n",
              "  [theme=dark] .colab-df-quickchart:hover {\n",
              "    background-color: #434B5C;\n",
              "    box-shadow: 0px 1px 3px 1px rgba(0, 0, 0, 0.15);\n",
              "    filter: drop-shadow(0px 1px 2px rgba(0, 0, 0, 0.3));\n",
              "    fill: #FFFFFF;\n",
              "  }\n",
              "</style>\n",
              "\n",
              "  <script>\n",
              "    async function quickchart(key) {\n",
              "      const charts = await google.colab.kernel.invokeFunction(\n",
              "          'suggestCharts', [key], {});\n",
              "    }\n",
              "    (() => {\n",
              "      let quickchartButtonEl =\n",
              "        document.querySelector('#df-fb04e141-19fe-4e61-8e0d-13755ac39574 button');\n",
              "      quickchartButtonEl.style.display =\n",
              "        google.colab.kernel.accessAllowed ? 'block' : 'none';\n",
              "    })();\n",
              "  </script>\n",
              "</div>\n",
              "    </div>\n",
              "  </div>\n"
            ]
          },
          "metadata": {},
          "execution_count": 13
        }
      ]
    },
    {
      "cell_type": "code",
      "source": [
        "all_data['age'].nunique()"
      ],
      "metadata": {
        "id": "8kJbFbIqIvyw",
        "colab": {
          "base_uri": "https://localhost:8080/"
        },
        "outputId": "e70c32aa-6783-4732-c5c0-acba92411141"
      },
      "execution_count": 14,
      "outputs": [
        {
          "output_type": "execute_result",
          "data": {
            "text/plain": [
              "7"
            ]
          },
          "metadata": {},
          "execution_count": 14
        }
      ]
    },
    {
      "cell_type": "markdown",
      "source": [
        "# One Hot Encoding for genres"
      ],
      "metadata": {
        "id": "gAuDngk7eiPS"
      }
    },
    {
      "cell_type": "code",
      "source": [
        "from sklearn.preprocessing import MultiLabelBinarizer\n",
        "\n",
        "mlb = MultiLabelBinarizer()\n",
        "\n",
        "# Transform genres column into multi-hot encoded vectors\n",
        "multi_hot_encoded = mlb.fit_transform(all_data['genres'])"
      ],
      "metadata": {
        "id": "RjetGxJ8cQoh"
      },
      "execution_count": 15,
      "outputs": []
    },
    {
      "cell_type": "code",
      "source": [
        "# Create a new DataFrame with the multi-hot encoded vectors\n",
        "encoded_df = pd.DataFrame(multi_hot_encoded, columns=mlb.classes_)"
      ],
      "metadata": {
        "id": "F7hgrYZne5CK"
      },
      "execution_count": 16,
      "outputs": []
    },
    {
      "cell_type": "code",
      "source": [
        "# Concatenate the new DataFrame with the original one\n",
        "preprocessed_df = pd.concat([all_data, encoded_df], axis=1)"
      ],
      "metadata": {
        "id": "AF0KskrVfNBj"
      },
      "execution_count": 17,
      "outputs": []
    },
    {
      "cell_type": "code",
      "source": [
        "preprocessed_df.drop(['genres', 'year'], inplace=True, axis=1)"
      ],
      "metadata": {
        "id": "wgyhyhIzfNzv"
      },
      "execution_count": 18,
      "outputs": []
    },
    {
      "cell_type": "code",
      "source": [
        "preprocessed_df.head(1)"
      ],
      "metadata": {
        "colab": {
          "base_uri": "https://localhost:8080/",
          "height": 162
        },
        "id": "aZ6EM5gfhb4q",
        "outputId": "39b40bb6-a502-4ba1-cc38-d26c4816cbf7"
      },
      "execution_count": 19,
      "outputs": [
        {
          "output_type": "execute_result",
          "data": {
            "text/plain": [
              "   user  movie  rating gender  age                            title  Action  \\\n",
              "0     1   1193       5      F    1  One Flew Over the Cuckoo's Nest       0   \n",
              "\n",
              "   Adventure  Animation  Children's  ...  Fantasy  Film-Noir  Horror  Musical  \\\n",
              "0          0          0           0  ...        0          0       0        0   \n",
              "\n",
              "   Mystery  Romance  Sci-Fi  Thriller  War  Western  \n",
              "0        0        0       0         0    0        0  \n",
              "\n",
              "[1 rows x 24 columns]"
            ],
            "text/html": [
              "\n",
              "  <div id=\"df-64712fb0-0946-4d0a-af10-483981bdc35b\" class=\"colab-df-container\">\n",
              "    <div>\n",
              "<style scoped>\n",
              "    .dataframe tbody tr th:only-of-type {\n",
              "        vertical-align: middle;\n",
              "    }\n",
              "\n",
              "    .dataframe tbody tr th {\n",
              "        vertical-align: top;\n",
              "    }\n",
              "\n",
              "    .dataframe thead th {\n",
              "        text-align: right;\n",
              "    }\n",
              "</style>\n",
              "<table border=\"1\" class=\"dataframe\">\n",
              "  <thead>\n",
              "    <tr style=\"text-align: right;\">\n",
              "      <th></th>\n",
              "      <th>user</th>\n",
              "      <th>movie</th>\n",
              "      <th>rating</th>\n",
              "      <th>gender</th>\n",
              "      <th>age</th>\n",
              "      <th>title</th>\n",
              "      <th>Action</th>\n",
              "      <th>Adventure</th>\n",
              "      <th>Animation</th>\n",
              "      <th>Children's</th>\n",
              "      <th>...</th>\n",
              "      <th>Fantasy</th>\n",
              "      <th>Film-Noir</th>\n",
              "      <th>Horror</th>\n",
              "      <th>Musical</th>\n",
              "      <th>Mystery</th>\n",
              "      <th>Romance</th>\n",
              "      <th>Sci-Fi</th>\n",
              "      <th>Thriller</th>\n",
              "      <th>War</th>\n",
              "      <th>Western</th>\n",
              "    </tr>\n",
              "  </thead>\n",
              "  <tbody>\n",
              "    <tr>\n",
              "      <th>0</th>\n",
              "      <td>1</td>\n",
              "      <td>1193</td>\n",
              "      <td>5</td>\n",
              "      <td>F</td>\n",
              "      <td>1</td>\n",
              "      <td>One Flew Over the Cuckoo's Nest</td>\n",
              "      <td>0</td>\n",
              "      <td>0</td>\n",
              "      <td>0</td>\n",
              "      <td>0</td>\n",
              "      <td>...</td>\n",
              "      <td>0</td>\n",
              "      <td>0</td>\n",
              "      <td>0</td>\n",
              "      <td>0</td>\n",
              "      <td>0</td>\n",
              "      <td>0</td>\n",
              "      <td>0</td>\n",
              "      <td>0</td>\n",
              "      <td>0</td>\n",
              "      <td>0</td>\n",
              "    </tr>\n",
              "  </tbody>\n",
              "</table>\n",
              "<p>1 rows × 24 columns</p>\n",
              "</div>\n",
              "    <div class=\"colab-df-buttons\">\n",
              "\n",
              "  <div class=\"colab-df-container\">\n",
              "    <button class=\"colab-df-convert\" onclick=\"convertToInteractive('df-64712fb0-0946-4d0a-af10-483981bdc35b')\"\n",
              "            title=\"Convert this dataframe to an interactive table.\"\n",
              "            style=\"display:none;\">\n",
              "\n",
              "  <svg xmlns=\"http://www.w3.org/2000/svg\" height=\"24px\" viewBox=\"0 -960 960 960\">\n",
              "    <path d=\"M120-120v-720h720v720H120Zm60-500h600v-160H180v160Zm220 220h160v-160H400v160Zm0 220h160v-160H400v160ZM180-400h160v-160H180v160Zm440 0h160v-160H620v160ZM180-180h160v-160H180v160Zm440 0h160v-160H620v160Z\"/>\n",
              "  </svg>\n",
              "    </button>\n",
              "\n",
              "  <style>\n",
              "    .colab-df-container {\n",
              "      display:flex;\n",
              "      gap: 12px;\n",
              "    }\n",
              "\n",
              "    .colab-df-convert {\n",
              "      background-color: #E8F0FE;\n",
              "      border: none;\n",
              "      border-radius: 50%;\n",
              "      cursor: pointer;\n",
              "      display: none;\n",
              "      fill: #1967D2;\n",
              "      height: 32px;\n",
              "      padding: 0 0 0 0;\n",
              "      width: 32px;\n",
              "    }\n",
              "\n",
              "    .colab-df-convert:hover {\n",
              "      background-color: #E2EBFA;\n",
              "      box-shadow: 0px 1px 2px rgba(60, 64, 67, 0.3), 0px 1px 3px 1px rgba(60, 64, 67, 0.15);\n",
              "      fill: #174EA6;\n",
              "    }\n",
              "\n",
              "    .colab-df-buttons div {\n",
              "      margin-bottom: 4px;\n",
              "    }\n",
              "\n",
              "    [theme=dark] .colab-df-convert {\n",
              "      background-color: #3B4455;\n",
              "      fill: #D2E3FC;\n",
              "    }\n",
              "\n",
              "    [theme=dark] .colab-df-convert:hover {\n",
              "      background-color: #434B5C;\n",
              "      box-shadow: 0px 1px 3px 1px rgba(0, 0, 0, 0.15);\n",
              "      filter: drop-shadow(0px 1px 2px rgba(0, 0, 0, 0.3));\n",
              "      fill: #FFFFFF;\n",
              "    }\n",
              "  </style>\n",
              "\n",
              "    <script>\n",
              "      const buttonEl =\n",
              "        document.querySelector('#df-64712fb0-0946-4d0a-af10-483981bdc35b button.colab-df-convert');\n",
              "      buttonEl.style.display =\n",
              "        google.colab.kernel.accessAllowed ? 'block' : 'none';\n",
              "\n",
              "      async function convertToInteractive(key) {\n",
              "        const element = document.querySelector('#df-64712fb0-0946-4d0a-af10-483981bdc35b');\n",
              "        const dataTable =\n",
              "          await google.colab.kernel.invokeFunction('convertToInteractive',\n",
              "                                                    [key], {});\n",
              "        if (!dataTable) return;\n",
              "\n",
              "        const docLinkHtml = 'Like what you see? Visit the ' +\n",
              "          '<a target=\"_blank\" href=https://colab.research.google.com/notebooks/data_table.ipynb>data table notebook</a>'\n",
              "          + ' to learn more about interactive tables.';\n",
              "        element.innerHTML = '';\n",
              "        dataTable['output_type'] = 'display_data';\n",
              "        await google.colab.output.renderOutput(dataTable, element);\n",
              "        const docLink = document.createElement('div');\n",
              "        docLink.innerHTML = docLinkHtml;\n",
              "        element.appendChild(docLink);\n",
              "      }\n",
              "    </script>\n",
              "  </div>\n",
              "\n",
              "    </div>\n",
              "  </div>\n"
            ]
          },
          "metadata": {},
          "execution_count": 19
        }
      ]
    },
    {
      "cell_type": "markdown",
      "source": [
        "# Use the glove-twitter-25 pretrained to transform the title to a 25-dimensions vector"
      ],
      "metadata": {
        "id": "-gkzlD2niQpf"
      }
    },
    {
      "cell_type": "code",
      "source": [
        "import numpy as np\n",
        "import re\n",
        "from nltk.tokenize import word_tokenize\n",
        "from gensim.models import KeyedVectors\n",
        "import gensim.downloader as api"
      ],
      "metadata": {
        "id": "I3cobKhohj5u"
      },
      "execution_count": 20,
      "outputs": []
    },
    {
      "cell_type": "code",
      "source": [
        "# Download the GloVe model\n",
        "glove_model = api.load(\"glove-twitter-25\")"
      ],
      "metadata": {
        "id": "o3HYa3nLibj0"
      },
      "execution_count": 21,
      "outputs": []
    },
    {
      "cell_type": "code",
      "source": [
        "# Function to clean and tokenize the title\n",
        "def clean_and_tokenize(title):\n",
        "    title = re.sub(r'[^a-zA-Z0-9\\s]', '', title)  # Remove non-alphanumeric characters\n",
        "    title = title.lower()  # Convert to lowercase\n",
        "    tokens = title.split()  # Tokenization\n",
        "    return tokens\n",
        "\n",
        "title = \"One Flew Over the Cuckoo's Nest\"\n",
        "tokens = clean_and_tokenize(title)\n",
        "print(tokens)"
      ],
      "metadata": {
        "colab": {
          "base_uri": "https://localhost:8080/"
        },
        "id": "vRK24gX_j0D1",
        "outputId": "4c569e57-3891-48db-9395-d4ed8228c327"
      },
      "execution_count": 22,
      "outputs": [
        {
          "output_type": "stream",
          "name": "stdout",
          "text": [
            "['one', 'flew', 'over', 'the', 'cuckoos', 'nest']\n"
          ]
        }
      ]
    },
    {
      "cell_type": "code",
      "source": [
        "# Function to get the sum of embeddings for a list of words\n",
        "def get_embedding_sum(tokens):\n",
        "    embedding_sum = np.zeros(25)\n",
        "    for token in tokens:\n",
        "        if token in glove_model:\n",
        "            embedding_sum += glove_model[token]\n",
        "    return embedding_sum\n",
        "\n",
        "print(get_embedding_sum(tokens))"
      ],
      "metadata": {
        "colab": {
          "base_uri": "https://localhost:8080/"
        },
        "id": "9w34SZHykINt",
        "outputId": "87cf7bfa-5a66-42bf-cc7b-a9702180ad6a"
      },
      "execution_count": 23,
      "outputs": [
        {
          "output_type": "stream",
          "name": "stdout",
          "text": [
            "[ -0.191339     0.04330699   2.46325295  -0.18650998  -5.14390003\n",
            "  -0.61849102   3.19921003  -4.94781996  -1.65898596   2.01279497\n",
            "   2.01219501   4.02643998 -20.57420015   2.19508894   0.21093699\n",
            "   3.79346988   4.47298001   1.42998942  -0.42103002  -0.24349003\n",
            "  -3.02258502   0.160147     4.05436006  -4.68331991   0.31828001]\n"
          ]
        }
      ]
    },
    {
      "cell_type": "code",
      "source": [
        "# Apply cleaning, tokenization, and embedding summation\n",
        "preprocessed_df['cleaned_tokens'] = preprocessed_df['title'].apply(clean_and_tokenize)\n",
        "preprocessed_df['embedding_sum'] = preprocessed_df['cleaned_tokens'].apply(get_embedding_sum)"
      ],
      "metadata": {
        "id": "b-RLJdw3kfLi"
      },
      "execution_count": 24,
      "outputs": []
    },
    {
      "cell_type": "code",
      "source": [
        "preprocessed_df.head(1)"
      ],
      "metadata": {
        "colab": {
          "base_uri": "https://localhost:8080/",
          "height": 217
        },
        "id": "A5HOf1w1kpPz",
        "outputId": "e6f78bd8-7692-4ea3-c9ba-4c10ad7360e7"
      },
      "execution_count": 25,
      "outputs": [
        {
          "output_type": "execute_result",
          "data": {
            "text/plain": [
              "   user  movie  rating gender  age                            title  Action  \\\n",
              "0     1   1193       5      F    1  One Flew Over the Cuckoo's Nest       0   \n",
              "\n",
              "   Adventure  Animation  Children's  ...  Horror  Musical  Mystery  Romance  \\\n",
              "0          0          0           0  ...       0        0        0        0   \n",
              "\n",
              "   Sci-Fi  Thriller  War  Western                         cleaned_tokens  \\\n",
              "0       0         0    0        0  [one, flew, over, the, cuckoos, nest]   \n",
              "\n",
              "                                       embedding_sum  \n",
              "0  [-0.19133899826556444, 0.0433069933205843, 2.4...  \n",
              "\n",
              "[1 rows x 26 columns]"
            ],
            "text/html": [
              "\n",
              "  <div id=\"df-f8bd574b-74a9-4ef0-9fa0-2681b7ac8a48\" class=\"colab-df-container\">\n",
              "    <div>\n",
              "<style scoped>\n",
              "    .dataframe tbody tr th:only-of-type {\n",
              "        vertical-align: middle;\n",
              "    }\n",
              "\n",
              "    .dataframe tbody tr th {\n",
              "        vertical-align: top;\n",
              "    }\n",
              "\n",
              "    .dataframe thead th {\n",
              "        text-align: right;\n",
              "    }\n",
              "</style>\n",
              "<table border=\"1\" class=\"dataframe\">\n",
              "  <thead>\n",
              "    <tr style=\"text-align: right;\">\n",
              "      <th></th>\n",
              "      <th>user</th>\n",
              "      <th>movie</th>\n",
              "      <th>rating</th>\n",
              "      <th>gender</th>\n",
              "      <th>age</th>\n",
              "      <th>title</th>\n",
              "      <th>Action</th>\n",
              "      <th>Adventure</th>\n",
              "      <th>Animation</th>\n",
              "      <th>Children's</th>\n",
              "      <th>...</th>\n",
              "      <th>Horror</th>\n",
              "      <th>Musical</th>\n",
              "      <th>Mystery</th>\n",
              "      <th>Romance</th>\n",
              "      <th>Sci-Fi</th>\n",
              "      <th>Thriller</th>\n",
              "      <th>War</th>\n",
              "      <th>Western</th>\n",
              "      <th>cleaned_tokens</th>\n",
              "      <th>embedding_sum</th>\n",
              "    </tr>\n",
              "  </thead>\n",
              "  <tbody>\n",
              "    <tr>\n",
              "      <th>0</th>\n",
              "      <td>1</td>\n",
              "      <td>1193</td>\n",
              "      <td>5</td>\n",
              "      <td>F</td>\n",
              "      <td>1</td>\n",
              "      <td>One Flew Over the Cuckoo's Nest</td>\n",
              "      <td>0</td>\n",
              "      <td>0</td>\n",
              "      <td>0</td>\n",
              "      <td>0</td>\n",
              "      <td>...</td>\n",
              "      <td>0</td>\n",
              "      <td>0</td>\n",
              "      <td>0</td>\n",
              "      <td>0</td>\n",
              "      <td>0</td>\n",
              "      <td>0</td>\n",
              "      <td>0</td>\n",
              "      <td>0</td>\n",
              "      <td>[one, flew, over, the, cuckoos, nest]</td>\n",
              "      <td>[-0.19133899826556444, 0.0433069933205843, 2.4...</td>\n",
              "    </tr>\n",
              "  </tbody>\n",
              "</table>\n",
              "<p>1 rows × 26 columns</p>\n",
              "</div>\n",
              "    <div class=\"colab-df-buttons\">\n",
              "\n",
              "  <div class=\"colab-df-container\">\n",
              "    <button class=\"colab-df-convert\" onclick=\"convertToInteractive('df-f8bd574b-74a9-4ef0-9fa0-2681b7ac8a48')\"\n",
              "            title=\"Convert this dataframe to an interactive table.\"\n",
              "            style=\"display:none;\">\n",
              "\n",
              "  <svg xmlns=\"http://www.w3.org/2000/svg\" height=\"24px\" viewBox=\"0 -960 960 960\">\n",
              "    <path d=\"M120-120v-720h720v720H120Zm60-500h600v-160H180v160Zm220 220h160v-160H400v160Zm0 220h160v-160H400v160ZM180-400h160v-160H180v160Zm440 0h160v-160H620v160ZM180-180h160v-160H180v160Zm440 0h160v-160H620v160Z\"/>\n",
              "  </svg>\n",
              "    </button>\n",
              "\n",
              "  <style>\n",
              "    .colab-df-container {\n",
              "      display:flex;\n",
              "      gap: 12px;\n",
              "    }\n",
              "\n",
              "    .colab-df-convert {\n",
              "      background-color: #E8F0FE;\n",
              "      border: none;\n",
              "      border-radius: 50%;\n",
              "      cursor: pointer;\n",
              "      display: none;\n",
              "      fill: #1967D2;\n",
              "      height: 32px;\n",
              "      padding: 0 0 0 0;\n",
              "      width: 32px;\n",
              "    }\n",
              "\n",
              "    .colab-df-convert:hover {\n",
              "      background-color: #E2EBFA;\n",
              "      box-shadow: 0px 1px 2px rgba(60, 64, 67, 0.3), 0px 1px 3px 1px rgba(60, 64, 67, 0.15);\n",
              "      fill: #174EA6;\n",
              "    }\n",
              "\n",
              "    .colab-df-buttons div {\n",
              "      margin-bottom: 4px;\n",
              "    }\n",
              "\n",
              "    [theme=dark] .colab-df-convert {\n",
              "      background-color: #3B4455;\n",
              "      fill: #D2E3FC;\n",
              "    }\n",
              "\n",
              "    [theme=dark] .colab-df-convert:hover {\n",
              "      background-color: #434B5C;\n",
              "      box-shadow: 0px 1px 3px 1px rgba(0, 0, 0, 0.15);\n",
              "      filter: drop-shadow(0px 1px 2px rgba(0, 0, 0, 0.3));\n",
              "      fill: #FFFFFF;\n",
              "    }\n",
              "  </style>\n",
              "\n",
              "    <script>\n",
              "      const buttonEl =\n",
              "        document.querySelector('#df-f8bd574b-74a9-4ef0-9fa0-2681b7ac8a48 button.colab-df-convert');\n",
              "      buttonEl.style.display =\n",
              "        google.colab.kernel.accessAllowed ? 'block' : 'none';\n",
              "\n",
              "      async function convertToInteractive(key) {\n",
              "        const element = document.querySelector('#df-f8bd574b-74a9-4ef0-9fa0-2681b7ac8a48');\n",
              "        const dataTable =\n",
              "          await google.colab.kernel.invokeFunction('convertToInteractive',\n",
              "                                                    [key], {});\n",
              "        if (!dataTable) return;\n",
              "\n",
              "        const docLinkHtml = 'Like what you see? Visit the ' +\n",
              "          '<a target=\"_blank\" href=https://colab.research.google.com/notebooks/data_table.ipynb>data table notebook</a>'\n",
              "          + ' to learn more about interactive tables.';\n",
              "        element.innerHTML = '';\n",
              "        dataTable['output_type'] = 'display_data';\n",
              "        await google.colab.output.renderOutput(dataTable, element);\n",
              "        const docLink = document.createElement('div');\n",
              "        docLink.innerHTML = docLinkHtml;\n",
              "        element.appendChild(docLink);\n",
              "      }\n",
              "    </script>\n",
              "  </div>\n",
              "\n",
              "    </div>\n",
              "  </div>\n"
            ]
          },
          "metadata": {},
          "execution_count": 25
        }
      ]
    },
    {
      "cell_type": "code",
      "source": [
        "embedding_columns = [f'embedding_{i+1}' for i in range(25)]\n",
        "embedding_df = pd.DataFrame(preprocessed_df['embedding_sum'].tolist(), columns=embedding_columns)"
      ],
      "metadata": {
        "id": "9U_Uu7aXktsq"
      },
      "execution_count": 26,
      "outputs": []
    },
    {
      "cell_type": "code",
      "source": [
        "final_df = pd.concat([preprocessed_df, embedding_df], axis=1)"
      ],
      "metadata": {
        "id": "3MA_k0w7k83J"
      },
      "execution_count": 27,
      "outputs": []
    },
    {
      "cell_type": "code",
      "source": [
        "final_df.drop(['title'], inplace=True, axis=1)"
      ],
      "metadata": {
        "id": "v_p46GCml20L"
      },
      "execution_count": 28,
      "outputs": []
    },
    {
      "cell_type": "code",
      "source": [
        "final_df.head(1)"
      ],
      "metadata": {
        "colab": {
          "base_uri": "https://localhost:8080/",
          "height": 130
        },
        "id": "hegOgiKjlAvi",
        "outputId": "2dc706ca-64a3-4947-c406-1af2d6adf145"
      },
      "execution_count": 29,
      "outputs": [
        {
          "output_type": "execute_result",
          "data": {
            "text/plain": [
              "   user  movie  rating gender  age  Action  Adventure  Animation  Children's  \\\n",
              "0     1   1193       5      F    1       0          0          0           0   \n",
              "\n",
              "   Comedy  ...  embedding_16  embedding_17  embedding_18  embedding_19  \\\n",
              "0       0  ...       3.79347       4.47298      1.429989      -0.42103   \n",
              "\n",
              "   embedding_20  embedding_21  embedding_22  embedding_23  embedding_24  \\\n",
              "0      -0.24349     -3.022585      0.160147       4.05436      -4.68332   \n",
              "\n",
              "   embedding_25  \n",
              "0       0.31828  \n",
              "\n",
              "[1 rows x 50 columns]"
            ],
            "text/html": [
              "\n",
              "  <div id=\"df-6858f7aa-b18e-451c-a922-e928e9ab3e6d\" class=\"colab-df-container\">\n",
              "    <div>\n",
              "<style scoped>\n",
              "    .dataframe tbody tr th:only-of-type {\n",
              "        vertical-align: middle;\n",
              "    }\n",
              "\n",
              "    .dataframe tbody tr th {\n",
              "        vertical-align: top;\n",
              "    }\n",
              "\n",
              "    .dataframe thead th {\n",
              "        text-align: right;\n",
              "    }\n",
              "</style>\n",
              "<table border=\"1\" class=\"dataframe\">\n",
              "  <thead>\n",
              "    <tr style=\"text-align: right;\">\n",
              "      <th></th>\n",
              "      <th>user</th>\n",
              "      <th>movie</th>\n",
              "      <th>rating</th>\n",
              "      <th>gender</th>\n",
              "      <th>age</th>\n",
              "      <th>Action</th>\n",
              "      <th>Adventure</th>\n",
              "      <th>Animation</th>\n",
              "      <th>Children's</th>\n",
              "      <th>Comedy</th>\n",
              "      <th>...</th>\n",
              "      <th>embedding_16</th>\n",
              "      <th>embedding_17</th>\n",
              "      <th>embedding_18</th>\n",
              "      <th>embedding_19</th>\n",
              "      <th>embedding_20</th>\n",
              "      <th>embedding_21</th>\n",
              "      <th>embedding_22</th>\n",
              "      <th>embedding_23</th>\n",
              "      <th>embedding_24</th>\n",
              "      <th>embedding_25</th>\n",
              "    </tr>\n",
              "  </thead>\n",
              "  <tbody>\n",
              "    <tr>\n",
              "      <th>0</th>\n",
              "      <td>1</td>\n",
              "      <td>1193</td>\n",
              "      <td>5</td>\n",
              "      <td>F</td>\n",
              "      <td>1</td>\n",
              "      <td>0</td>\n",
              "      <td>0</td>\n",
              "      <td>0</td>\n",
              "      <td>0</td>\n",
              "      <td>0</td>\n",
              "      <td>...</td>\n",
              "      <td>3.79347</td>\n",
              "      <td>4.47298</td>\n",
              "      <td>1.429989</td>\n",
              "      <td>-0.42103</td>\n",
              "      <td>-0.24349</td>\n",
              "      <td>-3.022585</td>\n",
              "      <td>0.160147</td>\n",
              "      <td>4.05436</td>\n",
              "      <td>-4.68332</td>\n",
              "      <td>0.31828</td>\n",
              "    </tr>\n",
              "  </tbody>\n",
              "</table>\n",
              "<p>1 rows × 50 columns</p>\n",
              "</div>\n",
              "    <div class=\"colab-df-buttons\">\n",
              "\n",
              "  <div class=\"colab-df-container\">\n",
              "    <button class=\"colab-df-convert\" onclick=\"convertToInteractive('df-6858f7aa-b18e-451c-a922-e928e9ab3e6d')\"\n",
              "            title=\"Convert this dataframe to an interactive table.\"\n",
              "            style=\"display:none;\">\n",
              "\n",
              "  <svg xmlns=\"http://www.w3.org/2000/svg\" height=\"24px\" viewBox=\"0 -960 960 960\">\n",
              "    <path d=\"M120-120v-720h720v720H120Zm60-500h600v-160H180v160Zm220 220h160v-160H400v160Zm0 220h160v-160H400v160ZM180-400h160v-160H180v160Zm440 0h160v-160H620v160ZM180-180h160v-160H180v160Zm440 0h160v-160H620v160Z\"/>\n",
              "  </svg>\n",
              "    </button>\n",
              "\n",
              "  <style>\n",
              "    .colab-df-container {\n",
              "      display:flex;\n",
              "      gap: 12px;\n",
              "    }\n",
              "\n",
              "    .colab-df-convert {\n",
              "      background-color: #E8F0FE;\n",
              "      border: none;\n",
              "      border-radius: 50%;\n",
              "      cursor: pointer;\n",
              "      display: none;\n",
              "      fill: #1967D2;\n",
              "      height: 32px;\n",
              "      padding: 0 0 0 0;\n",
              "      width: 32px;\n",
              "    }\n",
              "\n",
              "    .colab-df-convert:hover {\n",
              "      background-color: #E2EBFA;\n",
              "      box-shadow: 0px 1px 2px rgba(60, 64, 67, 0.3), 0px 1px 3px 1px rgba(60, 64, 67, 0.15);\n",
              "      fill: #174EA6;\n",
              "    }\n",
              "\n",
              "    .colab-df-buttons div {\n",
              "      margin-bottom: 4px;\n",
              "    }\n",
              "\n",
              "    [theme=dark] .colab-df-convert {\n",
              "      background-color: #3B4455;\n",
              "      fill: #D2E3FC;\n",
              "    }\n",
              "\n",
              "    [theme=dark] .colab-df-convert:hover {\n",
              "      background-color: #434B5C;\n",
              "      box-shadow: 0px 1px 3px 1px rgba(0, 0, 0, 0.15);\n",
              "      filter: drop-shadow(0px 1px 2px rgba(0, 0, 0, 0.3));\n",
              "      fill: #FFFFFF;\n",
              "    }\n",
              "  </style>\n",
              "\n",
              "    <script>\n",
              "      const buttonEl =\n",
              "        document.querySelector('#df-6858f7aa-b18e-451c-a922-e928e9ab3e6d button.colab-df-convert');\n",
              "      buttonEl.style.display =\n",
              "        google.colab.kernel.accessAllowed ? 'block' : 'none';\n",
              "\n",
              "      async function convertToInteractive(key) {\n",
              "        const element = document.querySelector('#df-6858f7aa-b18e-451c-a922-e928e9ab3e6d');\n",
              "        const dataTable =\n",
              "          await google.colab.kernel.invokeFunction('convertToInteractive',\n",
              "                                                    [key], {});\n",
              "        if (!dataTable) return;\n",
              "\n",
              "        const docLinkHtml = 'Like what you see? Visit the ' +\n",
              "          '<a target=\"_blank\" href=https://colab.research.google.com/notebooks/data_table.ipynb>data table notebook</a>'\n",
              "          + ' to learn more about interactive tables.';\n",
              "        element.innerHTML = '';\n",
              "        dataTable['output_type'] = 'display_data';\n",
              "        await google.colab.output.renderOutput(dataTable, element);\n",
              "        const docLink = document.createElement('div');\n",
              "        docLink.innerHTML = docLinkHtml;\n",
              "        element.appendChild(docLink);\n",
              "      }\n",
              "    </script>\n",
              "  </div>\n",
              "\n",
              "    </div>\n",
              "  </div>\n"
            ]
          },
          "metadata": {},
          "execution_count": 29
        }
      ]
    },
    {
      "cell_type": "markdown",
      "source": [
        "# Split train and test data"
      ],
      "metadata": {
        "id": "P2h0Ec-Dnu42"
      }
    },
    {
      "cell_type": "code",
      "source": [
        "# Reset index\n",
        "final_df.reset_index(drop=True, inplace=True)"
      ],
      "metadata": {
        "id": "O2QvIevonK-0"
      },
      "execution_count": 30,
      "outputs": []
    },
    {
      "cell_type": "code",
      "source": [
        "test_indices = final_df.index[final_df.index % 20 == 0]\n",
        "train_indices = final_df.index[final_df.index % 20 != 0]"
      ],
      "metadata": {
        "id": "b8fPfd_BoDMC"
      },
      "execution_count": 31,
      "outputs": []
    },
    {
      "cell_type": "code",
      "source": [
        "# Split the data into train and test sets\n",
        "train_data = final_df.loc[train_indices]\n",
        "test_data = final_df.loc[test_indices]"
      ],
      "metadata": {
        "id": "TklPMxSOoJr-"
      },
      "execution_count": 32,
      "outputs": []
    },
    {
      "cell_type": "markdown",
      "source": [
        "# Baselines\n",
        "Will compute the RMSE of the following baselines, each representing a naive approach to predict ratings using basic statistics alone"
      ],
      "metadata": {
        "id": "sRdlea-ifPP3"
      }
    },
    {
      "cell_type": "markdown",
      "source": [
        "## Random guessing\n",
        "Predict ratings randomly using uniform sampling of the five possible ratings."
      ],
      "metadata": {
        "id": "s-JRhAbNfZEi"
      }
    },
    {
      "cell_type": "code",
      "source": [
        "from sklearn.metrics import mean_squared_error\n",
        "\n",
        "np.random.seed(42)\n",
        "random_ratings = np.random.randint(1, 6, size=len(train_data))\n",
        "\n",
        "rmse = np.sqrt(mean_squared_error(train_data['rating'], random_ratings))\n",
        "\n",
        "print(\"\\nRMSE of Random Guessing:\", rmse)"
      ],
      "metadata": {
        "colab": {
          "base_uri": "https://localhost:8080/"
        },
        "id": "O5ijv_9e_Hyc",
        "outputId": "9bd79191-1c17-4944-bbfc-82d70009a7a2"
      },
      "execution_count": null,
      "outputs": [
        {
          "output_type": "stream",
          "name": "stdout",
          "text": [
            "\n",
            "RMSE of Random Guessing: 1.8927228186609004\n"
          ]
        }
      ]
    },
    {
      "cell_type": "markdown",
      "source": [
        "## Weighted sampling\n",
        "Predict ratings randomly, giving each rating value a weight based on the number of its appearances in training data."
      ],
      "metadata": {
        "id": "KAgRQiwMg-JJ"
      }
    },
    {
      "cell_type": "code",
      "source": [
        "# Calculate the frequency of each rating\n",
        "rating_frequency = train_data['rating'].value_counts()\n",
        "\n",
        "# Compute weights based on the frequency\n",
        "total_ratings = len(train_data)\n",
        "weights = rating_frequency / total_ratings\n",
        "\n",
        "random_ratings_weighted = np.random.choice(weights.index, size=len(train_data), p=weights)\n",
        "\n",
        "rmse = np.sqrt(mean_squared_error(train_data['rating'], random_ratings_weighted))\n",
        "\n",
        "print(\"\\nRMSE of Weighted Sampling:\", rmse)"
      ],
      "metadata": {
        "colab": {
          "base_uri": "https://localhost:8080/"
        },
        "id": "XeeF3m0WgJf7",
        "outputId": "4288f042-0350-4654-8172-1f5109163484"
      },
      "execution_count": null,
      "outputs": [
        {
          "output_type": "stream",
          "name": "stdout",
          "text": [
            "\n",
            "RMSE of Weighted Sampling: 1.5787861666414635\n"
          ]
        }
      ]
    },
    {
      "cell_type": "markdown",
      "source": [
        "## Majorit Class"
      ],
      "metadata": {
        "id": "bvWGgUOJk-9D"
      }
    },
    {
      "cell_type": "code",
      "source": [
        "majority_class = train_data['rating'].value_counts().idxmax()\n",
        "\n",
        "# Generate predictions with the majority class\n",
        "majority_predictions = np.full(len(train_data), majority_class)\n",
        "\n",
        "# Compute RMSE\n",
        "rmse_majority = np.sqrt(mean_squared_error(train_data['rating'], majority_predictions))\n",
        "\n",
        "print(\"\\nRMSE of Majority Class Prediction:\", rmse_majority)"
      ],
      "metadata": {
        "colab": {
          "base_uri": "https://localhost:8080/"
        },
        "id": "VvHotsIwkWOd",
        "outputId": "42e235c5-a127-4f77-bf97-c321fba3c278"
      },
      "execution_count": null,
      "outputs": [
        {
          "output_type": "stream",
          "name": "stdout",
          "text": [
            "\n",
            "RMSE of Majority Class Prediction: 1.1927920782845602\n"
          ]
        }
      ]
    },
    {
      "cell_type": "markdown",
      "source": [
        "#Mean value\n",
        "Predict the mean rating over the training data (this probably won’t be an integer)."
      ],
      "metadata": {
        "id": "xfoLYkyWlnOY"
      }
    },
    {
      "cell_type": "code",
      "source": [
        "mean_value = train_data['rating'].mean()\n",
        "\n",
        "predictions = np.full(len(train_data['rating']), mean_value)\n",
        "\n",
        "# Compute RMSE\n",
        "rmse_mean = np.sqrt(mean_squared_error(train_data['rating'], predictions))\n",
        "\n",
        "print(\"\\nRMSE of Mean Value Prediction:\", rmse_mean)"
      ],
      "metadata": {
        "colab": {
          "base_uri": "https://localhost:8080/"
        },
        "id": "4Q9LUzM3laQv",
        "outputId": "f44a56fd-1e80-4b47-ca00-e4c80381cfb4"
      },
      "execution_count": null,
      "outputs": [
        {
          "output_type": "stream",
          "name": "stdout",
          "text": [
            "\n",
            "RMSE of Mean Value Prediction: 1.1170133846611283\n"
          ]
        }
      ]
    },
    {
      "cell_type": "markdown",
      "source": [
        "# Use Tensorflow Recommenders"
      ],
      "metadata": {
        "id": "244tAjskx8pP"
      }
    },
    {
      "cell_type": "code",
      "source": [
        "! pip install -q tensorflow-recommenders"
      ],
      "metadata": {
        "id": "rCp6yP9yyZEs"
      },
      "execution_count": 33,
      "outputs": []
    },
    {
      "cell_type": "code",
      "source": [
        "from collections import Counter, OrderedDict\n",
        "du = OrderedDict()\n",
        "for k,v in sorted(Counter(all_data['user']).items(), key=lambda item: -item[1]):\n",
        "    du[k] = v\n",
        "lu = list(du.values())\n",
        "sum(lu[:2500])/sum(lu)"
      ],
      "metadata": {
        "colab": {
          "base_uri": "https://localhost:8080/"
        },
        "id": "aAwGmMGO8HT4",
        "outputId": "4e967f3a-b532-47fa-9c20-b532dcbd7407"
      },
      "execution_count": 34,
      "outputs": [
        {
          "output_type": "execute_result",
          "data": {
            "text/plain": [
              "0.7983711404316498"
            ]
          },
          "metadata": {},
          "execution_count": 34
        }
      ]
    },
    {
      "cell_type": "code",
      "source": [
        "dm = OrderedDict()\n",
        "for k,v in sorted(Counter(all_data['movie']).items(), key=lambda item: -item[1]):\n",
        "    dm[k] = v\n",
        "lm = list(dm.values())\n",
        "sum(lm[:1200])/sum(lm)"
      ],
      "metadata": {
        "colab": {
          "base_uri": "https://localhost:8080/"
        },
        "id": "ivBRrflb95K8",
        "outputId": "e1888157-610f-42a1-c381-5e625d03fd19"
      },
      "execution_count": 35,
      "outputs": [
        {
          "output_type": "execute_result",
          "data": {
            "text/plain": [
              "0.8047208133500099"
            ]
          },
          "metadata": {},
          "execution_count": 35
        }
      ]
    },
    {
      "cell_type": "code",
      "source": [
        "all_users = [str(int(i)) for i in list(du.keys())[:2500]]\n",
        "all_movies = [str(int(i)) for i in list(dm.keys())[:1200]]"
      ],
      "metadata": {
        "id": "wkBihyTB9rDU"
      },
      "execution_count": 36,
      "outputs": []
    },
    {
      "cell_type": "code",
      "source": [
        "import tensorflow as tf\n",
        "import tensorflow_recommenders as tfrs\n",
        "\n",
        "def convert_to_dataset(df):\n",
        "    d = {k:v.to_numpy() for k,v in dict(df).items()}\n",
        "    return tf.data.Dataset.from_tensor_slices(d)\n",
        "\n",
        "train_dataset = convert_to_dataset(train_data[['user', 'movie', 'rating']])\n",
        "test_dataset = convert_to_dataset(test_data[['user', 'movie', 'rating']])"
      ],
      "metadata": {
        "id": "VPb5Flnrlxgn"
      },
      "execution_count": null,
      "outputs": []
    },
    {
      "cell_type": "code",
      "source": [
        "class RatingPredictionModel(tfrs.models.Model):\n",
        "    def __init__(self):\n",
        "        super().__init__()\n",
        "\n",
        "        # User tower\n",
        "        self.user_input = tf.keras.Input(shape=(1,), dtype=tf.string, name='user_input')\n",
        "        self.user_sl = tf.keras.layers.StringLookup(vocabulary=all_users, name='user_string_lookup')(self.user_input)\n",
        "        self.user_emb = tf.squeeze(tf.keras.layers.Embedding(len(all_users)+1, 25, name='user_emb')(self.user_sl), axis=1)\n",
        "        self.user_dense = tf.keras.layers.Dense(20, activation='relu', name='user_dense')(self.user_emb)\n",
        "\n",
        "        # Movie tower\n",
        "        self.movie_input = tf.keras.Input(shape=(1,), dtype=tf.string, name='movie_input')\n",
        "        self.movie_sl = tf.keras.layers.StringLookup(vocabulary=all_movies, name='movie_string_lookup')(self.movie_input)\n",
        "        self.movie_emb = tf.squeeze(tf.keras.layers.Embedding(len(all_movies)+1, 25, name='movie_emb')(self.movie_sl), axis=1)\n",
        "        self.movie_dense = tf.keras.layers.Dense(20, activation='relu', name='movie_dense')(self.movie_emb)\n",
        "\n",
        "        # Merging towers\n",
        "        self.towers_multiplied = tf.keras.layers.Multiply(name='towers_multiplied')([self.user_dense, self.movie_dense])\n",
        "        self.towers_dense = tf.keras.layers.Dense(10, activation='relu', name='towers_dense')(self.towers_multiplied)\n",
        "        self.output_node = tf.keras.layers.Dense(1, name='output_node')(self.towers_dense)\n",
        "\n",
        "        # Model definition\n",
        "        self.model = tf.keras.Model(inputs={'user': self.user_input,\n",
        "                                            'movie': self.movie_input},\n",
        "                                    outputs=self.output_node)\n",
        "\n",
        "        self.task = tfrs.tasks.Ranking(\n",
        "            loss = tf.keras.losses.MeanSquaredError(),\n",
        "            metrics=[tf.keras.metrics.RootMeanSquaredError()]\n",
        "        )\n",
        "\n",
        "    def call(self, features):\n",
        "        return self.model({'user': tf.strings.as_string(features[\"user\"]),\n",
        "                           'movie': tf.strings.as_string(features[\"movie\"])})\n",
        "\n",
        "    def compute_loss(self, features, **kwargs):\n",
        "        return self.task(labels=features[\"rating\"], predictions=self(features))"
      ],
      "metadata": {
        "id": "gcCfARZc9-VS"
      },
      "execution_count": null,
      "outputs": []
    },
    {
      "cell_type": "code",
      "source": [
        "model = RatingPredictionModel()\n",
        "learning_rate = 2e-3\n",
        "model.compile(optimizer=tf.keras.optimizers.Adam(learning_rate=learning_rate))\n",
        "cached_train = train_dataset.shuffle(15_000).batch(10_000).cache()\n",
        "early_stopping = tf.keras.callbacks.EarlyStopping(monitor='loss', restore_best_weights=True, patience=5)\n",
        "model.fit(cached_train, epochs=1000, callbacks=[early_stopping])"
      ],
      "metadata": {
        "id": "tQNtbW94-Wd0"
      },
      "execution_count": null,
      "outputs": []
    },
    {
      "cell_type": "code",
      "source": [
        "cached_test = test_dataset.batch(5000).cache()\n",
        "model.evaluate(cached_test, return_dict=True)"
      ],
      "metadata": {
        "colab": {
          "base_uri": "https://localhost:8080/"
        },
        "id": "Vf_OMD_1-YV_",
        "outputId": "4d7618a8-1692-41f4-8577-00a0fbf81f7f"
      },
      "execution_count": null,
      "outputs": [
        {
          "output_type": "stream",
          "name": "stdout",
          "text": [
            "11/11 [==============================] - 0s 19ms/step - root_mean_squared_error: 0.9757 - loss: 1.0987 - regularization_loss: 0.0000e+00 - total_loss: 1.0987\n"
          ]
        },
        {
          "output_type": "execute_result",
          "data": {
            "text/plain": [
              "{'root_mean_squared_error': 0.9757083654403687,\n",
              " 'loss': 1.8328609466552734,\n",
              " 'regularization_loss': 0,\n",
              " 'total_loss': 1.8328609466552734}"
            ]
          },
          "metadata": {},
          "execution_count": 106
        }
      ]
    },
    {
      "cell_type": "code",
      "source": [
        "model.model.summary()"
      ],
      "metadata": {
        "colab": {
          "base_uri": "https://localhost:8080/"
        },
        "id": "AFTS5diYBAua",
        "outputId": "23fe860f-dca6-49cc-fdf2-14fb1ae27caa"
      },
      "execution_count": null,
      "outputs": [
        {
          "output_type": "stream",
          "name": "stdout",
          "text": [
            "Model: \"model\"\n",
            "__________________________________________________________________________________________________\n",
            " Layer (type)                   Output Shape         Param #     Connected to                     \n",
            "==================================================================================================\n",
            " user_input (InputLayer)        [(None, 1)]          0           []                               \n",
            "                                                                                                  \n",
            " movie_input (InputLayer)       [(None, 1)]          0           []                               \n",
            "                                                                                                  \n",
            " user_string_lookup (StringLook  (None, 1)           0           ['user_input[0][0]']             \n",
            " up)                                                                                              \n",
            "                                                                                                  \n",
            " movie_string_lookup (StringLoo  (None, 1)           0           ['movie_input[0][0]']            \n",
            " kup)                                                                                             \n",
            "                                                                                                  \n",
            " user_emb (Embedding)           (None, 1, 25)        62525       ['user_string_lookup[0][0]']     \n",
            "                                                                                                  \n",
            " movie_emb (Embedding)          (None, 1, 25)        30025       ['movie_string_lookup[0][0]']    \n",
            "                                                                                                  \n",
            " tf.compat.v1.squeeze (TFOpLamb  (None, 25)          0           ['user_emb[0][0]']               \n",
            " da)                                                                                              \n",
            "                                                                                                  \n",
            " tf.compat.v1.squeeze_1 (TFOpLa  (None, 25)          0           ['movie_emb[0][0]']              \n",
            " mbda)                                                                                            \n",
            "                                                                                                  \n",
            " user_dense (Dense)             (None, 20)           520         ['tf.compat.v1.squeeze[0][0]']   \n",
            "                                                                                                  \n",
            " movie_dense (Dense)            (None, 20)           520         ['tf.compat.v1.squeeze_1[0][0]'] \n",
            "                                                                                                  \n",
            " towers_multiplied (Multiply)   (None, 20)           0           ['user_dense[0][0]',             \n",
            "                                                                  'movie_dense[0][0]']            \n",
            "                                                                                                  \n",
            " towers_dense (Dense)           (None, 10)           210         ['towers_multiplied[0][0]']      \n",
            "                                                                                                  \n",
            " output_node (Dense)            (None, 1)            11          ['towers_dense[0][0]']           \n",
            "                                                                                                  \n",
            "==================================================================================================\n",
            "Total params: 93,811\n",
            "Trainable params: 93,811\n",
            "Non-trainable params: 0\n",
            "__________________________________________________________________________________________________\n"
          ]
        }
      ]
    },
    {
      "cell_type": "markdown",
      "source": [
        "# A better TF Recommender"
      ],
      "metadata": {
        "id": "UK8fURctKa22"
      }
    },
    {
      "cell_type": "code",
      "source": [
        "import tensorflow as tf\n",
        "import tensorflow_recommenders as tfrs"
      ],
      "metadata": {
        "id": "HqmOkiWZmiFt"
      },
      "execution_count": 39,
      "outputs": []
    },
    {
      "cell_type": "code",
      "source": [
        "train_data.drop(['age', 'gender', 'cleaned_tokens', 'embedding_sum'], axis=1, inplace=True)\n",
        "test_data.drop(['age', 'gender', 'cleaned_tokens', 'embedding_sum'], axis=1, inplace=True)"
      ],
      "metadata": {
        "id": "p0oZ5t3Pmtwv"
      },
      "execution_count": 42,
      "outputs": []
    },
    {
      "cell_type": "code",
      "source": [
        "all_genres = all_data['genres'].explode().dropna().unique()\n",
        "\n",
        "def convert_to_dataset(df):\n",
        "    d = {k: v.to_numpy() for k, v in dict(df).items()}\n",
        "    d['genres'] = np.transpose(np.array([d[x] for x in all_genres]))\n",
        "    d['title_emb'] = np.transpose(np.array([d[f'embedding_{i+1}'] for i in range(25)]))\n",
        "\n",
        "    for x in [f'embedding_{i+1}' for i in range(25)]:\n",
        "        d.pop(x)\n",
        "    return tf.data.Dataset.from_tensor_slices(d)\n",
        "\n",
        "train_dataset = convert_to_dataset(train_data)\n",
        "test_dataset = convert_to_dataset(test_data)"
      ],
      "metadata": {
        "id": "1y0N9gpOgIoC"
      },
      "execution_count": 58,
      "outputs": []
    },
    {
      "cell_type": "code",
      "source": [
        "class RatingPredictionModel(tfrs.models.Model):\n",
        "    def __init__(self):\n",
        "        super().__init__()\n",
        "\n",
        "        tower_last_layer_size = 50\n",
        "        large_embedding_size = 25\n",
        "        medium_embedding_size = 5\n",
        "        small_embedding_size = 3\n",
        "\n",
        "        # User tower\n",
        "\n",
        "        self.user_input = tf.keras.Input(shape=(1,), dtype=tf.string, name='user_input')\n",
        "        self.user_sl = tf.keras.layers.StringLookup(vocabulary=all_users, name='user_string_lookup')(self.user_input)\n",
        "        self.user_emb = tf.squeeze(tf.keras.layers.Embedding(len(all_users)+1, large_embedding_size, name='user_emb')(self.user_sl), axis=1)\n",
        "\n",
        "        self.user_merged = tf.keras.layers.concatenate([self.user_emb],\n",
        "                                                       axis=-1, name='user_merged')\n",
        "\n",
        "        self.user_dense = tf.keras.layers.Dense(100, activation='relu', name='user_dense')(self.user_merged)\n",
        "        self.user_last_layer = tf.keras.layers.Dense(tower_last_layer_size, activation='relu', name='user_last_layer')(self.user_dense)\n",
        "\n",
        "        # Movie tower\n",
        "\n",
        "        self.movie_input = tf.keras.Input(shape=(1,), dtype=tf.string, name='movie_input')\n",
        "        self.movie_sl = tf.keras.layers.StringLookup(vocabulary=all_movies, name='movie_string_lookup')(self.movie_input)\n",
        "        self.movie_emb = tf.squeeze(tf.keras.layers.Embedding(len(all_movies)+1, large_embedding_size, name='movie_emb')(self.movie_sl), axis=1)\n",
        "\n",
        "        self.title_input = tf.keras.Input(shape=(25,), name='title_input')\n",
        "        self.title_dense = tf.keras.layers.Dense(25, activation='softmax', name='title_softmax')(self.title_input)\n",
        "\n",
        "        self.genres_input = tf.keras.Input(shape=(len(all_genres),), name='genres_input')\n",
        "\n",
        "        self.movie_merged = tf.keras.layers.concatenate([self.movie_emb, self.title_dense, self.genres_input],axis=-1, name='movie_merged')\n",
        "        self.movie_dense = tf.keras.layers.Dense(100, activation='relu', name='movie_dense')(self.movie_merged)\n",
        "        self.movie_last_layer = tf.keras.layers.Dense(tower_last_layer_size, activation='relu', name='movie_last_layer')(self.movie_dense)\n",
        "\n",
        "        # Combining towers\n",
        "\n",
        "        self.towers_multiplied = tf.keras.layers.Multiply(name='towers_multiplied')([self.user_last_layer, self.movie_last_layer])\n",
        "        self.towers_dense1 = tf.keras.layers.Dense(40, activation='relu', name='towers_dense1')(self.towers_multiplied)\n",
        "        self.towers_dense2 = tf.keras.layers.Dense(20, activation='relu', name='towers_dense2')(self.towers_dense1)\n",
        "        self.output_node = tf.keras.layers.Dense(1, name='output_node')(self.towers_dense2)\n",
        "\n",
        "        # Model definition\n",
        "\n",
        "        self.model = tf.keras.Model(inputs={'user': self.user_input,\n",
        "                                            'movie': self.movie_input,\n",
        "                                            'title': self.title_input,\n",
        "                                            'genres': self.genres_input\n",
        "                                            },\n",
        "                                    outputs=self.output_node)\n",
        "\n",
        "        self.task = tfrs.tasks.Ranking(\n",
        "            loss = tf.keras.losses.MeanSquaredError(),\n",
        "            metrics=[tf.keras.metrics.RootMeanSquaredError()]\n",
        "        )\n",
        "\n",
        "    def call(self, features):\n",
        "        return self.model({'user': tf.strings.as_string(features[\"user\"]),\n",
        "                           'movie': tf.strings.as_string(features[\"movie\"]),\n",
        "                           'title': features[\"title_emb\"],\n",
        "                           'genres': features[\"genres\"]\n",
        "                           })\n",
        "\n",
        "    def compute_loss(self, features, **kwargs):\n",
        "        return self.task(labels=features[\"rating\"], predictions=self(features))"
      ],
      "metadata": {
        "id": "pNX4459Mn9CQ"
      },
      "execution_count": 66,
      "outputs": []
    },
    {
      "cell_type": "code",
      "source": [
        "model = RatingPredictionModel()\n",
        "learning_rate = tf.keras.optimizers.schedules.ExponentialDecay(2e-3, decay_steps=4000, decay_rate=0.95)\n",
        "model.compile(optimizer=tf.keras.optimizers.Adam(learning_rate=learning_rate))\n",
        "cached_train = train_dataset.shuffle(15_000).batch(10_000).cache()\n",
        "\n",
        "# Define the EarlyStopping callback\n",
        "early_stopping = tf.keras.callbacks.EarlyStopping(\n",
        "    monitor='val_loss',  # Monitor validation loss\n",
        "    restore_best_weights=True,\n",
        "    patience=5,\n",
        "    mode='min'  # Specify mode as 'min' to look for decreasing validation loss\n",
        ")\n",
        "\n",
        "model.fit(cached_train, epochs=25, callbacks=[early_stopping])"
      ],
      "metadata": {
        "id": "2QOjKsEFqA8j"
      },
      "execution_count": null,
      "outputs": []
    },
    {
      "cell_type": "code",
      "source": [
        "x = {k:np.asarray([v]) for k,v in list(test_dataset.take(50).as_numpy_iterator())[47].items()}\n",
        "print(f\"Prediction for user {x['user'][0]} and movie {x['movie'][0]}: {model.predict(x)[0][0]:.2f} (rating: {x['rating'][0]})\")"
      ],
      "metadata": {
        "colab": {
          "base_uri": "https://localhost:8080/"
        },
        "id": "bIt18-68qCez",
        "outputId": "c83a6428-173a-4f46-f36f-3701de315d5d"
      },
      "execution_count": 99,
      "outputs": [
        {
          "output_type": "stream",
          "name": "stdout",
          "text": [
            "1/1 [==============================] - 0s 72ms/step\n",
            "Prediction for user 3413 and movie 1193: 4.48 (rating: 5)\n"
          ]
        }
      ]
    },
    {
      "cell_type": "code",
      "source": [
        "model.model.summary()"
      ],
      "metadata": {
        "colab": {
          "base_uri": "https://localhost:8080/"
        },
        "id": "ajk5nInduxYS",
        "outputId": "fa90dc73-98eb-4d74-97e6-1779a2c73857"
      },
      "execution_count": 101,
      "outputs": [
        {
          "output_type": "stream",
          "name": "stdout",
          "text": [
            "Model: \"model_3\"\n",
            "__________________________________________________________________________________________________\n",
            " Layer (type)                   Output Shape         Param #     Connected to                     \n",
            "==================================================================================================\n",
            " user_input (InputLayer)        [(None, 1)]          0           []                               \n",
            "                                                                                                  \n",
            " movie_input (InputLayer)       [(None, 1)]          0           []                               \n",
            "                                                                                                  \n",
            " user_string_lookup (StringLook  (None, 1)           0           ['user_input[0][0]']             \n",
            " up)                                                                                              \n",
            "                                                                                                  \n",
            " movie_string_lookup (StringLoo  (None, 1)           0           ['movie_input[0][0]']            \n",
            " kup)                                                                                             \n",
            "                                                                                                  \n",
            " user_emb (Embedding)           (None, 1, 25)        62525       ['user_string_lookup[0][0]']     \n",
            "                                                                                                  \n",
            " movie_emb (Embedding)          (None, 1, 25)        30025       ['movie_string_lookup[0][0]']    \n",
            "                                                                                                  \n",
            " title_input (InputLayer)       [(None, 25)]         0           []                               \n",
            "                                                                                                  \n",
            " tf.compat.v1.squeeze_12 (TFOpL  (None, 25)          0           ['user_emb[0][0]']               \n",
            " ambda)                                                                                           \n",
            "                                                                                                  \n",
            " tf.compat.v1.squeeze_13 (TFOpL  (None, 25)          0           ['movie_emb[0][0]']              \n",
            " ambda)                                                                                           \n",
            "                                                                                                  \n",
            " title_softmax (Dense)          (None, 25)           650         ['title_input[0][0]']            \n",
            "                                                                                                  \n",
            " genres_input (InputLayer)      [(None, 18)]         0           []                               \n",
            "                                                                                                  \n",
            " user_merged (Concatenate)      (None, 25)           0           ['tf.compat.v1.squeeze_12[0][0]']\n",
            "                                                                                                  \n",
            " movie_merged (Concatenate)     (None, 68)           0           ['tf.compat.v1.squeeze_13[0][0]',\n",
            "                                                                  'title_softmax[0][0]',          \n",
            "                                                                  'genres_input[0][0]']           \n",
            "                                                                                                  \n",
            " user_dense (Dense)             (None, 100)          2600        ['user_merged[0][0]']            \n",
            "                                                                                                  \n",
            " movie_dense (Dense)            (None, 100)          6900        ['movie_merged[0][0]']           \n",
            "                                                                                                  \n",
            " user_last_layer (Dense)        (None, 50)           5050        ['user_dense[0][0]']             \n",
            "                                                                                                  \n",
            " movie_last_layer (Dense)       (None, 50)           5050        ['movie_dense[0][0]']            \n",
            "                                                                                                  \n",
            " towers_multiplied (Multiply)   (None, 50)           0           ['user_last_layer[0][0]',        \n",
            "                                                                  'movie_last_layer[0][0]']       \n",
            "                                                                                                  \n",
            " towers_dense1 (Dense)          (None, 40)           2040        ['towers_multiplied[0][0]']      \n",
            "                                                                                                  \n",
            " towers_dense2 (Dense)          (None, 20)           820         ['towers_dense1[0][0]']          \n",
            "                                                                                                  \n",
            " output_node (Dense)            (None, 1)            21          ['towers_dense2[0][0]']          \n",
            "                                                                                                  \n",
            "==================================================================================================\n",
            "Total params: 115,681\n",
            "Trainable params: 115,681\n",
            "Non-trainable params: 0\n",
            "__________________________________________________________________________________________________\n"
          ]
        }
      ]
    },
    {
      "cell_type": "code",
      "source": [],
      "metadata": {
        "id": "t1d4zJOIu-cG"
      },
      "execution_count": null,
      "outputs": []
    }
  ]
}